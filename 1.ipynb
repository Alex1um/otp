{
 "cells": [
  {
   "cell_type": "code",
   "execution_count": 6,
   "metadata": {},
   "outputs": [],
   "source": [
    "import matplotlib.pyplot as plt\n",
    "import numpy as np"
   ]
  },
  {
   "cell_type": "code",
   "execution_count": 7,
   "metadata": {},
   "outputs": [],
   "source": [
    "T_0 = 1.17\n",
    "n = 6\n",
    "T = np.array([0, 1.5, 3])"
   ]
  },
  {
   "cell_type": "code",
   "execution_count": 10,
   "metadata": {},
   "outputs": [],
   "source": [
    "T_int = 6 * T_0 + T\n",
    "T_emk = 2.81 * T_0\n",
    "T_a = 5.7 * T_0\n",
    "tau = T_emk + T"
   ]
  },
  {
   "cell_type": "code",
   "execution_count": 13,
   "metadata": {},
   "outputs": [
    {
     "data": {
      "text/plain": [
       "((array([2.9171961, 3.1466961, 3.3761961]),\n",
       "  array([0.56653   , 0.45587025, 0.38137638])),\n",
       " (array([4.1594202, 4.4384202, 4.7174202]),\n",
       "  array([1.18608658, 0.83879487, 0.64881794]),\n",
       "  array([1.03985505, 1.10960505, 1.17935505]),\n",
       "  array([0.12998188, 0.13870063, 0.14741938])))"
      ]
     },
     "execution_count": 13,
     "metadata": {},
     "output_type": "execute_result"
    }
   ],
   "source": [
    "# v1.0\n",
    "PI_T_i = (0.153 * (tau / T_a) + 0.362) * T_a\n",
    "PI_K = 1 / (1.905 * (tau / T_a) + 0.826)\n",
    "a = 0.25\n",
    "PID_T_i = (0.186 * (tau / T_a) + 0.532) * T_a\n",
    "PID_K = 1 / (1.552 * (tau / T_a) + 0.078)\n",
    "T_d = a * PID_T_i\n",
    "T_c = T_d / 8\n",
    "(PI_T_i, PI_K), (PID_T_i, PID_K, T_d, T_c)"
   ]
  },
  {
   "cell_type": "code",
   "execution_count": 16,
   "metadata": {},
   "outputs": [
    {
     "data": {
      "text/plain": [
       "((array([2.8451241, 3.0806241, 3.3161241]),\n",
       "  array([0.53081139, 0.43656405, 0.3882662 ])),\n",
       " (array([3.381885, 3.984885, 4.587885]),\n",
       "  array([1.29130564, 0.96775752, 0.8232442 ]),\n",
       "  array([1.352754, 1.593954, 1.835154]),\n",
       "  array([0.16909425, 0.19924425, 0.22939425])))"
      ]
     },
     "execution_count": 16,
     "metadata": {},
     "output_type": "execute_result"
    }
   ],
   "source": [
    "# v2.0\n",
    "PI_T_i = (-0.467 * (tau / T_int) + 0.624) * T_int\n",
    "PI_K = 1 / (4.345 * (tau / T_int) - 0.151)\n",
    "a = 0.4\n",
    "PID_T_i = (-0.150 * (tau / T_int) + 0.552) * T_int\n",
    "PID_K = 1 / (2.766 * (tau / T_int) - 0.521)\n",
    "T_d = a * PID_T_i\n",
    "T_c = T_d / 8\n",
    "(PI_T_i, PI_K), (PID_T_i, PID_K, T_d, T_c)"
   ]
  },
  {
   "cell_type": "code",
   "execution_count": 19,
   "metadata": {},
   "outputs": [],
   "source": [
    "T_0 = 1.17\n",
    "n = 6\n",
    "T = 3\n",
    "Kkr = 0.745\n",
    "Tkr = 19.5"
   ]
  },
  {
   "cell_type": "code",
   "execution_count": 17,
   "metadata": {},
   "outputs": [],
   "source": [
    "import sympy\n",
    "sympy.init_printing()"
   ]
  },
  {
   "cell_type": "code",
   "execution_count": 77,
   "metadata": {},
   "outputs": [
    {
     "data": {
      "image/png": "[encoded data removed]",
      "text/latex": [
       "$\\displaystyle \\left[ \\frac{779677183480399.0 \\cdot \\left(168376359631921.0 t^{5} - 2.60206794046693 \\cdot 10^{15} t^{4} + 1.57132854035059 \\cdot 10^{16} t^{3} - 4.76248948253948 \\cdot 10^{16} t^{2} + 7.13839907416675 \\cdot 10^{16} t + 529213106857265.0 e^{0.854700854700855 t} - 4.33715504594284 \\cdot 10^{16}\\right) \\theta\\left(t - 3.0, 0.5\\right)}{1.31279205842499 \\cdot 10^{29} t^{5} \\theta\\left(t - 3.0, 0.5\\right) - 2.02877300304789 \\cdot 10^{30} t^{4} \\theta\\left(t - 3.0, 0.5\\right) + 1.22512901066291 \\cdot 10^{31} t^{3} \\theta\\left(t - 3.0, 0.5\\right) - 3.71320438610141 \\cdot 10^{31} t^{2} \\theta\\left(t - 3.0, 0.5\\right) + 5.56564688470542 \\cdot 10^{31} t \\theta\\left(t - 3.0, 0.5\\right) + 4.12615384615384 \\cdot 10^{29} e^{0.854700854700855 t} \\theta\\left(t - 3.0, 0.5\\right) - 5.0 \\cdot 10^{30} e^{0.854700854700855 t} - 3.38158083053852 \\cdot 10^{31} \\theta\\left(t - 3.0, 0.5\\right)}\\right]$"
      ],
      "text/plain": [
       "⎡                                                                          ⎛                   5         \n",
       "⎢                                                        779677183480399.0⋅⎝168376359631921.0⋅t  - 2.6020\n",
       "⎢────────────────────────────────────────────────────────────────────────────────────────────────────────\n",
       "⎢                      5                                         4                                       \n",
       "⎣1.31279205842499e+29⋅t ⋅θ(t - 3.0, 0.5) - 2.02877300304789e+30⋅t ⋅θ(t - 3.0, 0.5) + 1.22512901066291e+31\n",
       "\n",
       "                4                         3                         2                                    \n",
       "6794046693e+15⋅t  + 1.57132854035059e+16⋅t  - 4.76248948253948e+16⋅t  + 7.13839907416675e+16⋅t + 52921310\n",
       "─────────────────────────────────────────────────────────────────────────────────────────────────────────\n",
       "  3                                         2                                                            \n",
       "⋅t ⋅θ(t - 3.0, 0.5) - 3.71320438610141e+31⋅t ⋅θ(t - 3.0, 0.5) + 5.56564688470542e+31⋅t⋅θ(t - 3.0, 0.5) + \n",
       "\n",
       "           0.854700854700855⋅t                       ⎞                                                   \n",
       "6857265.0⋅ℯ                    - 4.33715504594284e+16⎠⋅θ(t - 3.0, 0.5)                                   \n",
       "─────────────────────────────────────────────────────────────────────────────────────────────────────────\n",
       "                      0.854700854700855⋅t                            0.854700854700855⋅t                 \n",
       "4.12615384615384e+29⋅ℯ                   ⋅θ(t - 3.0, 0.5) - 5.0e+30⋅ℯ                    - 3.381580830538\n",
       "\n",
       "                      ⎤\n",
       "                      ⎥\n",
       "──────────────────────⎥\n",
       "                      ⎥\n",
       "52e+31⋅θ(t - 3.0, 0.5)⎦"
      ]
     },
     "execution_count": 77,
     "metadata": {},
     "output_type": "execute_result"
    }
   ],
   "source": [
    "K = Kkr * 0.45\n",
    "T_i = Tkr / 1.2\n",
    "t, s, x = sympy.symbols(\"t s x\")\n",
    "e = (x - 1)\n",
    "v = K * (1 + 1/(s * T_i)) * e\n",
    "# v = K * (e + 1/T_i * sympy.Integral(e, (t, 0, sympy.oo)))\n",
    "W = 2 * sympy.exp(-s * T) / (1 + s * T_0) ** n\n",
    "# Wt = sympy.inverse_laplace_transform(W, s, t)\n",
    "inv = sympy.inverse_laplace_transform(W * v, s, t)\n",
    "f = sympy.solve(sympy.Eq(x, inv), x)\n",
    "f"
   ]
  },
  {
   "cell_type": "code",
   "execution_count": 78,
   "metadata": {},
   "outputs": [
    {
     "data": {
      "text/plain": [
       "[<matplotlib.lines.Line2D at 0x7424b453b390>]"
      ]
     },
     "execution_count": 78,
     "metadata": {},
     "output_type": "execute_result"
    },
    {
     "data": {
      "image/png": "[encoded data removed]",
      "text/plain": [
       "<Figure size 640x480 with 1 Axes>"
      ]
     },
     "metadata": {},
     "output_type": "display_data"
    }
   ],
   "source": [
    "fpy = np.vectorize(lambda tp: f[0].evalf(subs={t: tp}))\n",
    "ts = np.linspace(0, 100, 100)\n",
    "plt.plot(ts, fpy(ts))"
   ]
  },
  {
   "cell_type": "code",
   "execution_count": 83,
   "metadata": {},
   "outputs": [
    {
     "data": {
      "image/png": "[encoded data removed]",
      "text/latex": [
       "$\\displaystyle 109.216817114205$"
      ],
      "text/plain": [
       "109.216817114205"
      ]
     },
     "execution_count": 83,
     "metadata": {},
     "output_type": "execute_result"
    }
   ],
   "source": [
    "epsilon = sympy.integrate(sympy.Abs(f[0] - 1), (t, 0, 100))\n",
    "epsilon.evalf()"
   ]
  }
 ],
 "metadata": {
  "kernelspec": {
   "display_name": "Python 3 (ipykernel)",
   "language": "python",
   "name": "python3"
  },
  "language_info": {
   "codemirror_mode": {
    "name": "ipython",
    "version": 3
   },
   "file_extension": ".py",
   "mimetype": "text/x-python",
   "name": "python",
   "nbconvert_exporter": "python",
   "pygments_lexer": "ipython3",
   "version": "3.11.6"
  }
 },
 "nbformat": 4,
 "nbformat_minor": 2
}

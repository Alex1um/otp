{
 "cells": [
  {
   "cell_type": "code",
   "execution_count": 3,
   "metadata": {},
   "outputs": [],
   "source": [
    "import pickle\n",
    "import pandas as pd\n",
    "import numpy as np\n",
    "import glob"
   ]
  },
  {
   "cell_type": "code",
   "execution_count": 12,
   "metadata": {},
   "outputs": [],
   "source": [
    "pi_data = []\n",
    "pid_data = []\n",
    "for file, T in zip(glob.glob(\"*.pickle\"), (0, 1.2, 2.4)):\n",
    "    with open(file, \"rb\") as f:\n",
    "        pi, pid = pickle.load(f)\n",
    "    pi_data.append((T, *pi))\n",
    "    pid_data.append((T, *pid))"
   ]
  },
  {
   "cell_type": "code",
   "execution_count": 17,
   "metadata": {},
   "outputs": [],
   "source": [
    "header = pd.MultiIndex.from_arrays(\n",
    "    [\n",
    "        [\"Параметры\", \"Параметры\", \"Параметры\", \"Показатели устойчивости\", \"Показатели устойчивости\"], \n",
    "        [\"T\", \"K\", \"T_и\", \"Ф\", \"L\"]\n",
    "    ]\n",
    ")"
   ]
  },
  {
   "cell_type": "code",
   "execution_count": 20,
   "metadata": {},
   "outputs": [
    {
     "data": {
      "text/html": [
       "<div>\n",
       "<style scoped>\n",
       "    .dataframe tbody tr th:only-of-type {\n",
       "        vertical-align: middle;\n",
       "    }\n",
       "\n",
       "    .dataframe tbody tr th {\n",
       "        vertical-align: top;\n",
       "    }\n",
       "\n",
       "    .dataframe thead tr th {\n",
       "        text-align: left;\n",
       "    }\n",
       "</style>\n",
       "<table border=\"1\" class=\"dataframe\">\n",
       "  <thead>\n",
       "    <tr>\n",
       "      <th></th>\n",
       "      <th colspan=\"3\" halign=\"left\">Параметры</th>\n",
       "      <th colspan=\"2\" halign=\"left\">Показатели устойчивости</th>\n",
       "    </tr>\n",
       "    <tr>\n",
       "      <th></th>\n",
       "      <th>T</th>\n",
       "      <th>K</th>\n",
       "      <th>T_и</th>\n",
       "      <th>Ф</th>\n",
       "      <th>L</th>\n",
       "    </tr>\n",
       "  </thead>\n",
       "  <tbody>\n",
       "    <tr>\n",
       "      <th>0</th>\n",
       "      <td>0.0</td>\n",
       "      <td>1.18</td>\n",
       "      <td>6.40</td>\n",
       "      <td>1.447461</td>\n",
       "      <td>19.940445</td>\n",
       "    </tr>\n",
       "    <tr>\n",
       "      <th>1</th>\n",
       "      <td>1.2</td>\n",
       "      <td>0.88</td>\n",
       "      <td>8.10</td>\n",
       "      <td>3.531820</td>\n",
       "      <td>55.320634</td>\n",
       "    </tr>\n",
       "    <tr>\n",
       "      <th>2</th>\n",
       "      <td>2.4</td>\n",
       "      <td>0.79</td>\n",
       "      <td>9.75</td>\n",
       "      <td>3.843889</td>\n",
       "      <td>71.382077</td>\n",
       "    </tr>\n",
       "  </tbody>\n",
       "</table>\n",
       "</div>"
      ],
      "text/plain": [
       "  Параметры             Показатели устойчивости           \n",
       "          T     K   T_и                       Ф          L\n",
       "0       0.0  1.18  6.40                1.447461  19.940445\n",
       "1       1.2  0.88  8.10                3.531820  55.320634\n",
       "2       2.4  0.79  9.75                3.843889  71.382077"
      ]
     },
     "execution_count": 20,
     "metadata": {},
     "output_type": "execute_result"
    }
   ],
   "source": [
    "pd.DataFrame(pi_data, columns=header)"
   ]
  },
  {
   "cell_type": "code",
   "execution_count": 21,
   "metadata": {},
   "outputs": [
    {
     "data": {
      "text/html": [
       "<div>\n",
       "<style scoped>\n",
       "    .dataframe tbody tr th:only-of-type {\n",
       "        vertical-align: middle;\n",
       "    }\n",
       "\n",
       "    .dataframe tbody tr th {\n",
       "        vertical-align: top;\n",
       "    }\n",
       "\n",
       "    .dataframe thead tr th {\n",
       "        text-align: left;\n",
       "    }\n",
       "</style>\n",
       "<table border=\"1\" class=\"dataframe\">\n",
       "  <thead>\n",
       "    <tr>\n",
       "      <th></th>\n",
       "      <th colspan=\"3\" halign=\"left\">Параметры</th>\n",
       "      <th colspan=\"2\" halign=\"left\">Показатели устойчивости</th>\n",
       "    </tr>\n",
       "    <tr>\n",
       "      <th></th>\n",
       "      <th>T</th>\n",
       "      <th>K</th>\n",
       "      <th>T_и</th>\n",
       "      <th>Ф</th>\n",
       "      <th>L</th>\n",
       "    </tr>\n",
       "  </thead>\n",
       "  <tbody>\n",
       "    <tr>\n",
       "      <th>0</th>\n",
       "      <td>0.0</td>\n",
       "      <td>1.18</td>\n",
       "      <td>6.40</td>\n",
       "      <td>4.500906</td>\n",
       "      <td>59.151305</td>\n",
       "    </tr>\n",
       "    <tr>\n",
       "      <th>1</th>\n",
       "      <td>1.2</td>\n",
       "      <td>0.88</td>\n",
       "      <td>8.10</td>\n",
       "      <td>4.126986</td>\n",
       "      <td>79.328674</td>\n",
       "    </tr>\n",
       "    <tr>\n",
       "      <th>2</th>\n",
       "      <td>2.4</td>\n",
       "      <td>0.79</td>\n",
       "      <td>9.75</td>\n",
       "      <td>3.276050</td>\n",
       "      <td>85.783134</td>\n",
       "    </tr>\n",
       "  </tbody>\n",
       "</table>\n",
       "</div>"
      ],
      "text/plain": [
       "  Параметры             Показатели устойчивости           \n",
       "          T     K   T_и                       Ф          L\n",
       "0       0.0  1.18  6.40                4.500906  59.151305\n",
       "1       1.2  0.88  8.10                4.126986  79.328674\n",
       "2       2.4  0.79  9.75                3.276050  85.783134"
      ]
     },
     "execution_count": 21,
     "metadata": {},
     "output_type": "execute_result"
    }
   ],
   "source": [
    "pd.DataFrame(pid_data, columns=header)"
   ]
  }
 ],
 "metadata": {
  "kernelspec": {
   "display_name": "Python 3",
   "language": "python",
   "name": "python3"
  },
  "language_info": {
   "codemirror_mode": {
    "name": "ipython",
    "version": 3
   },
   "file_extension": ".py",
   "mimetype": "text/x-python",
   "name": "python",
   "nbconvert_exporter": "python",
   "pygments_lexer": "ipython3",
   "version": "3.11.6"
  }
 },
 "nbformat": 4,
 "nbformat_minor": 2
}

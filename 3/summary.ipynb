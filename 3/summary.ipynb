{
 "cells": [
  {
   "cell_type": "code",
   "execution_count": 19,
   "metadata": {},
   "outputs": [],
   "source": [
    "import pickle\n",
    "import pandas as pd\n",
    "import numpy as np\n",
    "import glob\n",
    "import ipywidgets as widgets\n",
    "from IPython.display import display"
   ]
  },
  {
   "cell_type": "code",
   "execution_count": 3,
   "metadata": {},
   "outputs": [],
   "source": [
    "pi_data = []\n",
    "pi_data2 = []\n",
    "pid_data = []\n",
    "pid_data2 = []\n",
    "for file, T in zip(glob.glob(\"*.pickle\"), (0, 1.2, 2.4)):\n",
    "    with open(file, \"rb\") as f:\n",
    "        pi, pi2, pid, pid2 = pickle.load(f)\n",
    "    pi_data.append((T, *pi))\n",
    "    pid_data.append((T, *pid))\n",
    "    pi_data2.append((T, *pi2))\n",
    "    pid_data2.append((T, *pid2))"
   ]
  },
  {
   "cell_type": "code",
   "execution_count": 4,
   "metadata": {},
   "outputs": [],
   "source": [
    "header = pd.MultiIndex.from_arrays(\n",
    "    [\n",
    "        [\"Параметры\", \"Параметры\", \"Параметры\", \"Показатели устойчивости\", \"Показатели устойчивости\"], \n",
    "        [\"T\", \"K\", \"T_и\", \"L\", \"Ф\"]\n",
    "    ]\n",
    ")"
   ]
  },
  {
   "cell_type": "code",
   "execution_count": 20,
   "metadata": {},
   "outputs": [
    {
     "data": {
      "application/vnd.jupyter.widget-view+json": {
       "model_id": "d41e4b4b6502481590f6d43cead5b9bb",
       "version_major": 2,
       "version_minor": 0
      },
      "text/plain": [
       "Output()"
      ]
     },
     "execution_count": 20,
     "metadata": {},
     "output_type": "execute_result"
    }
   ],
   "source": [
    "out = widgets.Output()\n",
    "with out:\n",
    "    display(pd.DataFrame(pi_data, columns=header))\n",
    "    display(pd.DataFrame(pi_data2, columns=header))\n",
    "out"
   ]
  },
  {
   "cell_type": "code",
   "execution_count": 10,
   "metadata": {},
   "outputs": [
    {
     "data": {
      "application/vnd.jupyter.widget-view+json": {
       "model_id": "a2fec677075d4ece94abcab83c1bad85",
       "version_major": 2,
       "version_minor": 0
      },
      "text/plain": [
       "Output()"
      ]
     },
     "execution_count": 10,
     "metadata": {},
     "output_type": "execute_result"
    }
   ],
   "source": [
    "out = widgets.Output()\n",
    "with out:\n",
    "    display(pd.DataFrame(pid_data, columns=header))\n",
    "    display(pd.DataFrame(pid_data2, columns=header))\n",
    "out"
   ]
  }
 ],
 "metadata": {
  "kernelspec": {
   "display_name": "Python 3",
   "language": "python",
   "name": "python3"
  },
  "language_info": {
   "codemirror_mode": {
    "name": "ipython",
    "version": 3
   },
   "file_extension": ".py",
   "mimetype": "text/x-python",
   "name": "python",
   "nbconvert_exporter": "python",
   "pygments_lexer": "ipython3",
   "version": "3.11.6"
  }
 },
 "nbformat": 4,
 "nbformat_minor": 2
}

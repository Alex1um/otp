{
 "cells": [
  {
   "cell_type": "code",
   "execution_count": 1,
   "metadata": {},
   "outputs": [
    {
     "name": "stdout",
     "output_type": "stream",
     "text": [
      "\u001b[4l\u001b[0m s  = \n",
      "  s\n",
      "\u001b[0m"
     ]
    }
   ],
   "source": [
    "s = poly(0, 's')"
   ]
  },
  {
   "cell_type": "code",
   "execution_count": 2,
   "metadata": {},
   "outputs": [
    {
     "name": "stdout",
     "output_type": "stream",
     "text": [
      "\u001b[4l\u001b[0m w1  = \n",
      "                 0.77 +1.771s                \n",
      "   ----------------------------------------  \n",
      "   2.3s +5.175s^2 +3.88125s^3 +0.9703125s^4  \n",
      "\u001b[0m\u001b[4l\u001b[0m w  = \n",
      "               0.7935588 +1.8251852s               \n",
      "   ----------------------------------------------  \n",
      "   0.7935588 +4.1955556s +5.3333333s^2 +4s^3 +s^4  \n",
      "\u001b[0m"
     ]
    }
   ],
   "source": [
    "w1 = (1 + 1 / (2.3*s)) * 0.77 * (1/(1 + 0.75 * s)^3)\n",
    "w = w1 / (1 + w1)"
   ]
  },
  {
   "cell_type": "code",
   "execution_count": 3,
   "metadata": {},
   "outputs": [
    {
     "name": "stdout",
     "output_type": "stream",
     "text": [
      "\u001b[4l\u001b[0m sys  = \n",
      "               0.7935588 +1.8251852s               \n",
      "   ----------------------------------------------  \n",
      "   0.7935588 +4.1955556s +5.3333333s^2 +4s^3 +s^4  \n",
      "\u001b[0m"
     ]
    }
   ],
   "source": [
    "sys = syslin('c', w)"
   ]
  },
  {
   "cell_type": "code",
   "execution_count": 4,
   "metadata": {},
   "outputs": [
    {
     "name": "stdout",
     "output_type": "stream",
     "text": [
      "\u001b[4l\u001b[0m\u001b[0m"
     ]
    },
    {
     "name": "stdout",
     "output_type": "stream",
     "text": [
      "\u001b[4l\u001b[0m\u001b[0m\u001b[4l\u001b[0m ans  =\n",
      "   1.0242718   0.0793973   0.0067179   0.000052 \n",
      "  -0.0257151   0.9908136   0.1590246   0.0019064\n",
      "  -0.171475   -0.2391469   0.6527589   0.0182308\n",
      "   0.0329667  -0.0445559   0.057745    0.956865 \n",
      "\u001b[0m\u001b[4l\u001b[0m ans  =\n",
      "  -0.0003725\n",
      "  -0.0137053\n",
      "  -0.1321518\n",
      "   0.0042935\n",
      "\u001b[0m\u001b[4l\u001b[0m ans  =\n",
      "  -0.7473266   0.   6.939D-18   0.\n",
      "\u001b[0m"
     ]
    }
   ],
   "source": [
    "h = 0.1;\n",
    "sysd = dscr(sys, h);\n",
    "sysd.A\n",
    "sysd.B\n",
    "sysd.C"
   ]
  },
  {
   "cell_type": "code",
   "execution_count": 15,
   "metadata": {},
   "outputs": [
    {
     "name": "stdout",
     "output_type": "stream",
     "text": [
      "\u001b[4l\u001b[0m\u001b[0m"
     ]
    },
    {
     "name": "stdout",
     "output_type": "stream",
     "text": [
      "\u001b[4l\u001b[0m\u001b[0m\u001b[4l\u001b[0m A  = \n",
      "   0.   0.   0.  -0.7945588\n",
      "   1.   0.   0.  -4.1955556\n",
      "   0.   1.   0.  -5.3333333\n",
      "   0.   0.   1.  -4.       \n",
      "\u001b[0m\u001b[4l\u001b[0m B  = \n",
      "   0.7935588\n",
      "   1.8251852\n",
      "   0.\n",
      "   0.\n",
      "\u001b[0m\u001b[4l\u001b[0m C  = \n",
      "   0.   0.   0.   1.\n",
      "\u001b[0m"
     ]
    }
   ],
   "source": [
    "ac = [0.7945588; 4.1955556; 5.3333333; 4];\n",
    "A = [zeros(1, 3); eye(3, 3)];\n",
    "A = [A -ac]\n",
    "B = [0.7935588; 1.8251852; 0; 0]\n",
    "C = [0 0 0 1]"
   ]
  },
  {
   "cell_type": "code",
   "execution_count": 12,
   "metadata": {},
   "outputs": [
    {
     "name": "stdout",
     "output_type": "stream",
     "text": [
      "\u001b[4l\u001b[0m Ad  = \n",
      "   1.    0.    0.   -0.0794559\n",
      "   0.1   1.    0.   -0.4195556\n",
      "   0.    0.1   1.   -0.5333333\n",
      "   0.    0.    0.1   0.6      \n",
      "\u001b[0m"
     ]
    }
   ],
   "source": [
    "Ad = (A * h + eye(A))"
   ]
  },
  {
   "cell_type": "code",
   "execution_count": 15,
   "metadata": {},
   "outputs": [
    {
     "name": "stdout",
     "output_type": "stream",
     "text": [
      "\u001b[4l\u001b[0m Ad  = \n",
      "   0.9999969  -0.0001199  -0.0034768  -0.0648967\n",
      "   0.0999839   0.9993701  -0.0183032  -0.3428833\n",
      "   0.0049792   0.0991794   0.976033   -0.4539083\n",
      "   0.0001509   0.0043757   0.0816765   0.6493271\n",
      "\u001b[0m"
     ]
    }
   ],
   "source": [
    "Ad = expm(A*h)"
   ]
  },
  {
   "cell_type": "code",
   "execution_count": 16,
   "metadata": {},
   "outputs": [
    {
     "name": "stdout",
     "output_type": "stream",
     "text": [
      "\u001b[4l\u001b[0m\u001b[0m\u001b[4l\u001b[0m\u001b[0m\u001b[4l\u001b[0m\u001b[0m\u001b[4l\u001b[0m\u001b[0m\u001b[4l\u001b[0m\u001b[0m\u001b[4l\u001b[0m\u001b[0m\u001b[4l\u001b[0m\u001b[0m\u001b[4l\u001b[0m hd  = \n",
      "   0.\n",
      "   0.\n",
      "   0.0182519\n",
      "   0.0482484\n",
      "   0.0851118\n",
      "   0.1252126\n",
      "   0.1658794\n",
      "   0.2051783\n",
      "   0.2417437\n",
      "   0.2746487\n",
      "   0.3033049\n",
      "   0.3273846\n",
      "   0.3467607\n",
      "   0.3614590\n",
      "   0.3716204\n",
      "   0.3774721\n",
      "   0.3793027\n",
      "   0.3774441\n",
      "   0.3722559\n",
      "   0.3641127\n",
      "   0.3533946\n",
      "   0.3404792\n",
      "   0.3257347\n",
      "   0.3095155\n",
      "   0.2921577\n",
      "   0.2739765\n",
      "   0.2552640\n",
      "   0.2362875\n",
      "   0.2172887\n",
      "   0.1984837\n",
      "   0.1800624\n",
      "   0.1621895\n",
      "   0.1450050\n",
      "   0.1286251\n",
      "   0.1131436\n",
      "   0.0986328\n",
      "   0.0851457\n",
      "   0.0727169\n",
      "   0.0613645\n",
      "   0.0510916\n",
      "   0.0418881\n",
      "   0.0337321\n",
      "   0.0265919\n",
      "   0.0204269\n",
      "   0.0151896\n",
      "   0.0108267\n",
      "   0.0072806\n",
      "   0.0044903\n",
      "   0.0023928\n",
      "   0.0009241\n",
      "\u001b[0m"
     ]
    }
   ],
   "source": [
    "hd = [];\n",
    "adk = eye(Ad);\n",
    "// for k=1:50 hd = [hd; C*Ad^(k - 1)*B]\n",
    "for k=1:50 \n",
    "    hd = [hd; C*adk*B];\n",
    "    adk = adk * Ad;\n",
    "end;\n",
    "hd"
   ]
  },
  {
   "cell_type": "code",
   "execution_count": 17,
   "metadata": {},
   "outputs": [
    {
     "name": "stdout",
     "output_type": "stream",
     "text": [
      "\u001b[4l\u001b[0m\u001b[0m"
     ]
    },
    {
     "data": {
      "image/svg+xml": [
       "<svg xmlns:xlink=\"http://www.w3.org/1999/xlink\" xmlns=\"http://www.w3.org/2000/svg\" style=\"fill-opacity:1; color-rendering:auto; color-interpolation:auto; text-rendering:auto; stroke:black; stroke-linecap:square; stroke-miterlimit:10; shape-rendering:auto; stroke-opacity:1; fill:black; stroke-dasharray:none; font-weight:normal; stroke-width:1; font-family:'Dialog'; font-style:normal; stroke-linejoin:miter; font-size:12px; stroke-dashoffset:0; image-rendering:auto;\" width=\"548\" height=\"336\"><!--Generated by Scilab with Batik SVG Generator--><defs id=\"genericDefs\"/><g><defs id=\"defs1\"><clipPath clipPathUnits=\"userSpaceOnUse\" id=\"clipPath1\"><path d=\"M68.4959 41.9975 L479.5041 41.9975 L479.5041 294.0025 L68.4959 294.0025 L68.4959 41.9975 Z\" style=\"\"/></clipPath><font horiz-adv-x=\"60.0\" id=\"font1\"><font-face ascent=\"106.899895\" descent=\"29.299973\" units-per-em=\"100\" style=\"font-style:normal; font-family:sans-serif; font-weight:normal;\"/><missing-glyph horiz-adv-x=\"60.0\" d=\"M9.4062 0 L9.4062 71.4062 L50.5 71.4062 L50.5 0 L9.4062 0 ZM14.5 5.0938 L45.4062 5.0938 L45.4062 66.2969 L14.5 66.2969 L14.5 5.0938 Z\"/><glyph unicode=\"0\" horiz-adv-x=\"57.0\" d=\"M52.2969 35.7969 Q52.2969 24.2969 49.8906 16.0469 Q47.5 7.7969 42.2969 3.3906 Q37.0938 -1 28.5 -1 Q16.4062 -1 10.6562 8.75 Q4.9062 18.5 4.9062 35.7969 Q4.9062 47.4062 7.25 55.5938 Q9.5938 63.7969 14.7969 68.1406 Q20 72.5 28.5 72.5 Q40.5 72.5 46.3906 62.8438 Q52.2969 53.2031 52.2969 35.7969 ZM13.7031 35.7969 Q13.7031 21.0938 17.0469 13.7969 Q20.4062 6.5 28.5 6.5 Q36.5 6.5 39.9531 13.75 Q43.4062 21 43.4062 35.7969 Q43.4062 50.4062 39.9531 57.7031 Q36.5 65 28.5 65 Q20.4062 65 17.0469 57.7031 Q13.7031 50.4062 13.7031 35.7969 Z\"/><glyph unicode=\"2\" horiz-adv-x=\"57.0\" d=\"M52 0 L4.7969 0 L4.7969 7.2969 L23.5 26.2031 Q28.9062 31.5938 32.5938 35.7969 Q36.2969 40 38.1875 44.0469 Q40.0938 48.0938 40.0938 52.9062 Q40.0938 58.7969 36.5938 61.8438 Q33.0938 64.9062 27.5 64.9062 Q22.2969 64.9062 18.3438 63.0938 Q14.4062 61.2969 10.2969 58.0938 L5.5938 64 Q9.7969 67.5 15.25 69.9531 Q20.7031 72.4062 27.5 72.4062 Q37.5 72.4062 43.2969 67.3438 Q49.0938 62.2969 49.0938 53.4062 Q49.0938 47.7969 46.7969 42.8906 Q44.5 38 40.3906 33.25 Q36.2969 28.5 30.7969 23.0938 L15.9062 8.4062 L15.9062 8 L52 8 L52 0 Z\"/><glyph unicode=\"4\" horiz-adv-x=\"57.0\" d=\"M55.2031 16.2031 L44.7969 16.2031 L44.7969 0 L36.2969 0 L36.2969 16.2031 L2.0938 16.2031 L2.0938 23.7031 L35.7031 71.7969 L44.7969 71.7969 L44.7969 24.0938 L55.2031 24.0938 L55.2031 16.2031 ZM36.2969 46.5938 Q36.2969 51.7969 36.5 55.4375 Q36.7031 59.0938 36.7969 62.4062 L36.4062 62.4062 Q35.5938 60.5 34.3906 58.2969 Q33.2031 56.0938 32.0938 54.5938 L10.7031 24.0938 L36.2969 24.0938 L36.2969 46.5938 Z\"/><glyph unicode=\"1\" horiz-adv-x=\"57.0\" d=\"M35.5 0 L26.9062 0 L26.9062 49.9062 Q26.9062 54.2031 27 56.7969 Q27.0938 59.4062 27.2969 62.2031 Q25.7031 60.5938 24.3906 59.5 Q23.0938 58.4062 21.0938 56.7031 L13.5 50.5 L8.9062 56.4062 L28.2031 71.4062 L35.5 71.4062 L35.5 0 Z\"/><glyph unicode=\"3\" horiz-adv-x=\"57.0\" d=\"M49.2969 54.7031 Q49.2969 47.5 45.2969 43.25 Q41.2969 39 34.5 37.5938 L34.5 37.2031 Q43.0938 36.2031 47.2969 31.7969 Q51.5 27.4062 51.5 20.2969 Q51.5 14.0938 48.5938 9.25 Q45.7031 4.4062 39.6406 1.7031 Q33.5938 -1 24.0938 -1 Q18.5 -1 13.7031 -0.1406 Q8.9062 0.7031 4.5 2.9062 L4.5 11.0938 Q9 8.9062 14.2031 7.6562 Q19.4062 6.4062 24.2031 6.4062 Q33.7969 6.4062 38.0469 10.1562 Q42.2969 13.9062 42.2969 20.5 Q42.2969 27.2031 37.0469 30.1406 Q31.7969 33.0938 22.2969 33.0938 L15.4062 33.0938 L15.4062 40.5938 L22.4062 40.5938 Q31.2031 40.5938 35.75 44.2969 Q40.2969 48 40.2969 54.0938 Q40.2969 59.2969 36.7969 62.1406 Q33.2969 65 27.2969 65 Q21.5 65 17.3906 63.2969 Q13.2969 61.5938 9.2969 59 L4.9062 65 Q8.7031 68 14.3438 70.2031 Q20 72.4062 27.2031 72.4062 Q38.4062 72.4062 43.8438 67.4062 Q49.2969 62.4062 49.2969 54.7031 Z\"/><glyph unicode=\"5\" horiz-adv-x=\"57.0\" d=\"M27.5 43.7969 Q38.5 43.7969 45 38.2969 Q51.5 32.7969 51.5 22.7969 Q51.5 11.7031 44.4531 5.3438 Q37.4062 -1 24.7969 -1 Q19.2969 -1 14.4375 0 Q9.5938 1 6.2969 2.9062 L6.2969 11.2031 Q9.9062 9 15.0469 7.75 Q20.2031 6.5 24.9062 6.5 Q32.7969 6.5 37.6406 10.25 Q42.5 14 42.5 21.9062 Q42.5 28.9062 38.2031 32.6562 Q33.9062 36.4062 24.5938 36.4062 Q21.7969 36.4062 18.1875 35.9062 Q14.5938 35.4062 12.4062 34.9062 L8 37.7031 L10.7031 71.4062 L46.5 71.4062 L46.5 63.4062 L18.2031 63.4062 L16.5 42.7031 Q18.2031 43 21.0938 43.3906 Q24 43.7969 27.5 43.7969 Z\"/><glyph unicode=\".\" horiz-adv-x=\"27.0\" d=\"M7.2031 5.4062 Q7.2031 9.0938 9 10.5938 Q10.7969 12.0938 13.2969 12.0938 Q15.9062 12.0938 17.75 10.5938 Q19.5938 9.0938 19.5938 5.4062 Q19.5938 1.7969 17.75 0.1875 Q15.9062 -1.4062 13.2969 -1.4062 Q10.7969 -1.4062 9 0.1875 Q7.2031 1.7969 7.2031 5.4062 Z\"/></font></defs><g style=\"fill:white; text-rendering:optimizeLegibility; stroke:white;\"><rect x=\"0\" width=\"548\" height=\"336\" y=\"0\" style=\"stroke:none;\"/></g><g style=\"stroke-linecap:butt; fill:white; text-rendering:geometricPrecision; stroke-linejoin:bevel; shape-rendering:crispEdges; stroke:white; stroke-width:0;\"><path style=\"stroke:none;\" d=\"M479.5 42 L479.5 294 L68.5 42 Z\"/><path style=\"stroke:none;\" d=\"M479.5 294 L68.5 294 L68.5 42 Z\"/><path style=\"stroke:none;\" d=\"M479.5 42 L479.5 294 L479.5 294 Z\"/><path style=\"stroke:none;\" d=\"M68.5 42 L68.5 294 L68.5 294 Z\"/><path style=\"stroke:none;\" d=\"M479.5 42 L479.5 294 L68.5 42 Z\"/><path style=\"stroke:none;\" d=\"M479.5 294 L68.5 294 L68.5 42 Z\"/><path style=\"stroke:none;\" d=\"M479.5 42 L479.5 42 L479.5 294 Z\"/><path style=\"stroke:none;\" d=\"M68.5 42 L68.5 42 L68.5 294 Z\"/><path style=\"stroke:none;\" d=\"M479.5 42 L68.5 42 L479.5 42 Z\"/><path style=\"stroke:none;\" d=\"M68.5 42 L68.5 42 L479.5 42 Z\"/><path style=\"stroke:none;\" d=\"M479.5 294 L68.5 294 L479.5 294 Z\"/><path style=\"stroke:none;\" d=\"M68.5 294 L68.5 294 L479.5 294 Z\"/></g><g transform=\"translate(65,303)\" style=\"font-size:10px; stroke-linecap:butt; text-rendering:geometricPrecision; font-family:sans-serif; stroke-linejoin:bevel; stroke-width:0;\"><text x=\"-0.4844\" xml:space=\"preserve\" y=\"10.69\" style=\"stroke:none;\">0</text></g><g transform=\"translate(226.4,303)\" style=\"font-size:10px; stroke-linecap:butt; text-rendering:geometricPrecision; font-family:sans-serif; stroke-linejoin:bevel; stroke-width:0;\"><text x=\"-0.4844\" xml:space=\"preserve\" y=\"10.69\" style=\"stroke:none;\">20</text></g><g transform=\"translate(390.3,303)\" style=\"font-size:10px; stroke-linecap:butt; text-rendering:geometricPrecision; font-family:sans-serif; stroke-linejoin:bevel; stroke-width:0;\"><text x=\"-0.2031\" xml:space=\"preserve\" y=\"10.69\" style=\"stroke:none;\">40</text></g><g transform=\"translate(144.2,303)\" style=\"font-size:10px; stroke-linecap:butt; text-rendering:geometricPrecision; font-family:sans-serif; stroke-linejoin:bevel; stroke-width:0;\"><text x=\"-0.8906\" xml:space=\"preserve\" y=\"10.69\" style=\"stroke:none;\">10</text></g><g transform=\"translate(308.6,303)\" style=\"font-size:10px; stroke-linecap:butt; text-rendering:geometricPrecision; font-family:sans-serif; stroke-linejoin:bevel; stroke-width:0;\"><text x=\"-0.4531\" xml:space=\"preserve\" y=\"10.69\" style=\"stroke:none;\">30</text></g><g transform=\"translate(473,303)\" style=\"font-size:10px; stroke-linecap:butt; text-rendering:geometricPrecision; font-family:sans-serif; stroke-linejoin:bevel; stroke-width:0;\"><text x=\"-0.625\" xml:space=\"preserve\" y=\"10.69\" style=\"stroke:none;\">50</text></g><g transform=\"translate(106.1,303)\" style=\"font-size:10px; stroke-linecap:butt; text-rendering:geometricPrecision; font-family:sans-serif; stroke-linejoin:bevel; stroke-width:0;\"><text x=\"-0.625\" xml:space=\"preserve\" y=\"10.69\" style=\"stroke:none;\">5</text></g><g transform=\"translate(185.3,303)\" style=\"font-size:10px; stroke-linecap:butt; text-rendering:geometricPrecision; font-family:sans-serif; stroke-linejoin:bevel; stroke-width:0;\"><text x=\"-0.8906\" xml:space=\"preserve\" y=\"10.69\" style=\"stroke:none;\">15</text></g><g transform=\"translate(267.5,303)\" style=\"font-size:10px; stroke-linecap:butt; text-rendering:geometricPrecision; font-family:sans-serif; stroke-linejoin:bevel; stroke-width:0;\"><text x=\"-0.4844\" xml:space=\"preserve\" y=\"10.69\" style=\"stroke:none;\">25</text></g><g transform=\"translate(349.7,303)\" style=\"font-size:10px; stroke-linecap:butt; text-rendering:geometricPrecision; font-family:sans-serif; stroke-linejoin:bevel; stroke-width:0;\"><text x=\"-0.4531\" xml:space=\"preserve\" y=\"10.69\" style=\"stroke:none;\">35</text></g><g transform=\"translate(431.9,303)\" style=\"font-size:10px; stroke-linecap:butt; text-rendering:geometricPrecision; font-family:sans-serif; stroke-linejoin:bevel; stroke-width:0;\"><text x=\"-0.2031\" xml:space=\"preserve\" y=\"10.69\" style=\"stroke:none;\">45</text></g><g style=\"text-rendering:geometricPrecision; font-size:10px; shape-rendering:crispEdges; font-family:sans-serif; stroke-linecap:butt;\"><path style=\"fill:none;\" d=\"M68.5 294 L68.5 300\"/><path style=\"fill:none;\" d=\"M109.6 294 L109.6 300\"/><path style=\"fill:none;\" d=\"M150.7 294 L150.7 300\"/><path style=\"fill:none;\" d=\"M191.8 294 L191.8 300\"/><path style=\"fill:none;\" d=\"M232.9 294 L232.9 300\"/><path style=\"fill:none;\" d=\"M274 294 L274 300\"/><path style=\"fill:none;\" d=\"M315.1 294 L315.1 300\"/><path style=\"fill:none;\" d=\"M356.2 294 L356.2 300\"/><path style=\"fill:none;\" d=\"M397.3 294 L397.3 300\"/><path style=\"fill:none;\" d=\"M438.4 294 L438.4 300\"/><path style=\"fill:none;\" d=\"M479.5 294 L479.5 300\"/><path style=\"fill:none;\" d=\"M68.5 294 L68.5 297\"/><path style=\"fill:none;\" d=\"M76.72 294 L76.72 297\"/><path style=\"fill:none;\" d=\"M84.94 294 L84.94 297\"/><path style=\"fill:none;\" d=\"M93.16 294 L93.16 297\"/><path style=\"fill:none;\" d=\"M101.38 294 L101.38 297\"/><path style=\"fill:none;\" d=\"M109.6 294 L109.6 297\"/><path style=\"fill:none;\" d=\"M117.82 294 L117.82 297\"/><path style=\"fill:none;\" d=\"M126.04 294 L126.04 297\"/><path style=\"fill:none;\" d=\"M134.26 294 L134.26 297\"/><path style=\"fill:none;\" d=\"M142.48 294 L142.48 297\"/><path style=\"fill:none;\" d=\"M150.7 294 L150.7 297\"/><path style=\"fill:none;\" d=\"M158.92 294 L158.92 297\"/><path style=\"fill:none;\" d=\"M167.14 294 L167.14 297\"/><path style=\"fill:none;\" d=\"M175.36 294 L175.36 297\"/><path style=\"fill:none;\" d=\"M183.58 294 L183.58 297\"/><path style=\"fill:none;\" d=\"M191.8 294 L191.8 297\"/><path style=\"fill:none;\" d=\"M200.02 294 L200.02 297\"/><path style=\"fill:none;\" d=\"M208.24 294 L208.24 297\"/><path style=\"fill:none;\" d=\"M216.46 294 L216.46 297\"/><path style=\"fill:none;\" d=\"M224.68 294 L224.68 297\"/><path style=\"fill:none;\" d=\"M232.9 294 L232.9 297\"/><path style=\"fill:none;\" d=\"M241.12 294 L241.12 297\"/><path style=\"fill:none;\" d=\"M249.34 294 L249.34 297\"/><path style=\"fill:none;\" d=\"M257.56 294 L257.56 297\"/><path style=\"fill:none;\" d=\"M265.78 294 L265.78 297\"/><path style=\"fill:none;\" d=\"M274 294 L274 297\"/><path style=\"fill:none;\" d=\"M282.22 294 L282.22 297\"/><path style=\"fill:none;\" d=\"M290.44 294 L290.44 297\"/><path style=\"fill:none;\" d=\"M298.66 294 L298.66 297\"/><path style=\"fill:none;\" d=\"M306.88 294 L306.88 297\"/><path style=\"fill:none;\" d=\"M315.1 294 L315.1 297\"/><path style=\"fill:none;\" d=\"M323.32 294 L323.32 297\"/><path style=\"fill:none;\" d=\"M331.54 294 L331.54 297\"/><path style=\"fill:none;\" d=\"M339.76 294 L339.76 297\"/><path style=\"fill:none;\" d=\"M347.98 294 L347.98 297\"/><path style=\"fill:none;\" d=\"M356.2 294 L356.2 297\"/><path style=\"fill:none;\" d=\"M364.42 294 L364.42 297\"/><path style=\"fill:none;\" d=\"M372.64 294 L372.64 297\"/><path style=\"fill:none;\" d=\"M380.86 294 L380.86 297\"/><path style=\"fill:none;\" d=\"M389.08 294 L389.08 297\"/><path style=\"fill:none;\" d=\"M397.3 294 L397.3 297\"/><path style=\"fill:none;\" d=\"M405.52 294 L405.52 297\"/><path style=\"fill:none;\" d=\"M413.74 294 L413.74 297\"/><path style=\"fill:none;\" d=\"M421.96 294 L421.96 297\"/><path style=\"fill:none;\" d=\"M430.18 294 L430.18 297\"/><path style=\"fill:none;\" d=\"M438.4 294 L438.4 297\"/><path style=\"fill:none;\" d=\"M446.62 294 L446.62 297\"/><path style=\"fill:none;\" d=\"M454.84 294 L454.84 297\"/><path style=\"fill:none;\" d=\"M463.06 294 L463.06 297\"/><path style=\"fill:none;\" d=\"M471.28 294 L471.28 297\"/><path style=\"fill:none;\" d=\"M479.5 294 L479.5 297\"/><path style=\"fill:none;\" d=\"M479.5 294 L68.5 294\"/><text x=\"-0.4844\" y=\"10.69\" transform=\"translate(52.5,286.5)\" style=\"stroke-linejoin:bevel; shape-rendering:auto; stroke:none; stroke-width:0;\" xml:space=\"preserve\">0</text></g><g transform=\"translate(43.5,160.5)\" style=\"font-size:10px; stroke-linecap:butt; text-rendering:geometricPrecision; font-family:sans-serif; stroke-linejoin:bevel; stroke-width:0;\"><text x=\"-0.4844\" xml:space=\"preserve\" y=\"10.69\" style=\"stroke:none;\">0.2</text></g><g transform=\"translate(42.5,34.5)\" style=\"font-size:10px; stroke-linecap:butt; text-rendering:geometricPrecision; font-family:sans-serif; stroke-linejoin:bevel; stroke-width:0;\"><text x=\"-0.4844\" xml:space=\"preserve\" y=\"10.69\" style=\"stroke:none;\">0.4</text></g><g transform=\"translate(44.5,223.5)\" style=\"font-size:10px; stroke-linecap:butt; text-rendering:geometricPrecision; font-family:sans-serif; stroke-linejoin:bevel; stroke-width:0;\"><text x=\"-0.4844\" xml:space=\"preserve\" y=\"10.69\" style=\"stroke:none;\">0.1</text></g><g transform=\"translate(43.5,97.5)\" style=\"font-size:10px; stroke-linecap:butt; text-rendering:geometricPrecision; font-family:sans-serif; stroke-linejoin:bevel; stroke-width:0;\"><text x=\"-0.4844\" xml:space=\"preserve\" y=\"10.69\" style=\"stroke:none;\">0.3</text></g><g transform=\"translate(37.5,255)\" style=\"font-size:10px; stroke-linecap:butt; text-rendering:geometricPrecision; font-family:sans-serif; stroke-linejoin:bevel; stroke-width:0;\"><text x=\"-0.4844\" xml:space=\"preserve\" y=\"10.69\" style=\"stroke:none;\">0.05</text></g><g transform=\"translate(37.5,192)\" style=\"font-size:10px; stroke-linecap:butt; text-rendering:geometricPrecision; font-family:sans-serif; stroke-linejoin:bevel; stroke-width:0;\"><text x=\"-0.4844\" xml:space=\"preserve\" y=\"10.69\" style=\"stroke:none;\">0.15</text></g><g transform=\"translate(37.5,129)\" style=\"font-size:10px; stroke-linecap:butt; text-rendering:geometricPrecision; font-family:sans-serif; stroke-linejoin:bevel; stroke-width:0;\"><text x=\"-0.4844\" xml:space=\"preserve\" y=\"10.69\" style=\"stroke:none;\">0.25</text></g><g transform=\"translate(37.5,66)\" style=\"font-size:10px; stroke-linecap:butt; text-rendering:geometricPrecision; font-family:sans-serif; stroke-linejoin:bevel; stroke-width:0;\"><text x=\"-0.4844\" xml:space=\"preserve\" y=\"10.69\" style=\"stroke:none;\">0.35</text></g><g style=\"text-rendering:geometricPrecision; font-size:10px; shape-rendering:crispEdges; font-family:sans-serif; stroke-linecap:butt;\"><path style=\"fill:none;\" d=\"M68.5 294 L62.5 294\"/><path style=\"fill:none;\" d=\"M68.5 262.5 L62.5 262.5\"/><path style=\"fill:none;\" d=\"M68.5 231 L62.5 231\"/><path style=\"fill:none;\" d=\"M68.5 199.5 L62.5 199.5\"/><path style=\"fill:none;\" d=\"M68.5 168 L62.5 168\"/><path style=\"fill:none;\" d=\"M68.5 136.5 L62.5 136.5\"/><path style=\"fill:none;\" d=\"M68.5 105 L62.5 105\"/><path style=\"fill:none;\" d=\"M68.5 73.5 L62.5 73.5\"/><path style=\"fill:none;\" d=\"M68.5 42 L62.5 42\"/><path style=\"fill:none;\" d=\"M68.5 42 L68.5 294\"/><path d=\"M76.72 294 L84.94 294 L93.16 282.5013 L101.38 263.6035 L109.6 240.3795 L117.82 215.1161 L126.04 189.496 L134.26 164.7377 L142.48 141.7015 L150.7 120.9713 L158.92 102.9179 L167.14 87.7477 L175.36 75.5407 L183.58 66.2809 L191.8 59.8791 L200.02 56.1926 L208.24 55.0393 L216.46 56.2102 L224.68 59.4788 L232.9 64.609 L241.12 71.3614 L249.34 79.4981 L257.56 88.7871 L265.78 99.0052 L274 109.9406 L282.22 121.3948 L290.44 133.1837 L298.66 145.1389 L306.88 157.1081 L315.1 168.9553 L323.32 180.5607 L331.54 191.8206 L339.76 202.6468 L347.98 212.9662 L356.2 222.7196 L364.42 231.8613 L372.64 240.3582 L380.86 248.1883 L389.08 255.3404 L397.3 261.8123 L405.52 267.6105 L413.74 272.7487 L421.96 277.2471 L430.18 281.1311 L438.4 284.4306 L446.62 287.1792 L454.84 289.4132 L463.06 291.1711 L471.28 292.4925 L479.5 293.4178\" style=\"fill:none; shape-rendering:geometricPrecision; clip-path:url(#clipPath1); stroke:blue;\"/><path style=\"fill:none;\" d=\"M68.5 294 L68.5 42 L68.5 42 L479.5 42 L479.5 294 L479.5 294 L68.5 294\"/><path style=\"fill:none;\" d=\"M479.5 42 L68.5 42\"/><path style=\"fill:none;\" d=\"M479.5 42 L479.5 294\"/><path style=\"fill:none;\" d=\"M479.5 42 L479.5 42\"/></g></g></svg>"
      ],
      "text/plain": [
       "<IPython.core.display.SVG object>"
      ]
     },
     "metadata": {},
     "output_type": "display_data"
    }
   ],
   "source": [
    "plot(hd)"
   ]
  }
 ],
 "metadata": {
  "kernelspec": {
   "display_name": "Scilab",
   "language": "scilab",
   "name": "scilab"
  },
  "language_info": {
   "file_extension": ".sci",
   "help_links": [
    {
     "text": "MetaKernel Magics",
     "url": "https://metakernel.readthedocs.io/en/latest/source/README.html"
    }
   ],
   "mimetype": "text/x-scilab",
   "name": "scilab",
   "version": "0.10.0"
  }
 },
 "nbformat": 4,
 "nbformat_minor": 2
}

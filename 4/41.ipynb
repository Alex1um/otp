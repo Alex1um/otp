{
 "cells": [
  {
   "cell_type": "code",
   "execution_count": 1,
   "metadata": {},
   "outputs": [
    {
     "name": "stdout",
     "output_type": "stream",
     "text": [
      "\u001b[4l\u001b[0m s  = \n",
      "  s\n",
      "\u001b[0m\u001b[4l\u001b[0m h  = \n",
      "   1.\n",
      "\u001b[0m"
     ]
    }
   ],
   "source": [
    "s = poly(0, 's', 'r')\n",
    "h = 1"
   ]
  },
  {
   "cell_type": "code",
   "execution_count": 2,
   "metadata": {},
   "outputs": [
    {
     "name": "stdout",
     "output_type": "stream",
     "text": [
      "\u001b[4l\u001b[0m Tkr  = \n",
      "   12.8\n",
      "\u001b[0m\u001b[4l\u001b[0m Kkr  = \n",
      "   1.18\n",
      "\u001b[0m\u001b[4l\u001b[0m Ti  = \n",
      "   6.4\n",
      "\u001b[0m\u001b[4l\u001b[0m Td  = \n",
      "   1.6\n",
      "\u001b[0m\u001b[4l\u001b[0m Tc  = \n",
      "   0.2\n",
      "\u001b[0m\u001b[4l\u001b[0m T0  = \n",
      "   1.17\n",
      "\u001b[0m\u001b[4l\u001b[0m n  = \n",
      "   6.\n",
      "\u001b[0m\u001b[4l\u001b[0m w1  = \n",
      "                                     1.198 +7.9068s +13.80096s^2                                    \n",
      "   -----------------------------------------------------------------------------------------------  \n",
      "   6.4s +46.208s^2 +140.4s^3 +231.28934s^4 +220.89446s^5 +120.16864s^6 +33.255052s^7 +3.2834102s^8  \n",
      "\u001b[0m\u001b[4l\u001b[0m w  = \n",
      "                                       0.3648661 +2.4081156s +4.2032397s^2                                       \n",
      "   ------------------------------------------------------------------------------------------------------------  \n",
      "   0.364866 +4.357318s +18.276463s^2 +42.760529s^3 +70.441928s^4 +67.276001s^5 +36.598751s^6 +10.128207s^7 +s^8  \n",
      "\u001b[0m"
     ]
    }
   ],
   "source": [
    "Tkr = 12.8\n",
    "Kkr = 1.18\n",
    "Ti = Tkr / 2\n",
    "Td = Ti / 4\n",
    "Tc = Td / 8\n",
    "T0 = 1.17\n",
    "n = 6\n",
    "w1 = (1 + 1 / (Ti*s) + Td * s / (1 + Tc * s)) * (1.18 * 0.45 + 0.068) * (2/(1 + T0 * s)^n)\n",
    "w = w1 / (1 + w1)"
   ]
  },
  {
   "cell_type": "code",
   "execution_count": 5,
   "metadata": {},
   "outputs": [
    {
     "name": "stdout",
     "output_type": "stream",
     "text": [
      "\u001b[4l\u001b[0m numer  = \n",
      "   0.3648661   2.4081156   4.2032397\n",
      "\u001b[0m\u001b[4l\u001b[0m denom  = \n",
      "   0.364866   4.357318   18.276463   42.760529   70.441928   67.276001   36.598751   10.128207   1.\n",
      "\u001b[0m\u001b[4l\u001b[0m\u001b[0m\u001b[4l\u001b[0m numer  = \n",
      "   0.3648661   2.4081156   4.2032397   0.   0.   0.   0.   0.\n",
      "\u001b[0m"
     ]
    }
   ],
   "source": [
    "numer = coeff(w.num)\n",
    "denom = coeff(w.den)\n",
    "denom = denom(1:length(denom) - 1);\n",
    "numer = [numer zeros(1, length(denom) - length(numer))]"
   ]
  },
  {
   "cell_type": "code",
   "execution_count": 6,
   "metadata": {},
   "outputs": [
    {
     "name": "stdout",
     "output_type": "stream",
     "text": [
      "\u001b[4l\u001b[0m\u001b[0m\u001b[4l\u001b[0m A1  = \n",
      "   0.   0.   0.   0.   0.   0.   0.  -0.364866 \n",
      "   1.   0.   0.   0.   0.   0.   0.  -4.357318 \n",
      "   0.   1.   0.   0.   0.   0.   0.  -18.276463\n",
      "   0.   0.   1.   0.   0.   0.   0.  -42.760529\n",
      "   0.   0.   0.   1.   0.   0.   0.  -70.441928\n",
      "   0.   0.   0.   0.   1.   0.   0.  -67.276001\n",
      "   0.   0.   0.   0.   0.   1.   0.  -36.598751\n",
      "   0.   0.   0.   0.   0.   0.   1.  -10.128207\n",
      "\u001b[0m\u001b[4l\u001b[0m B1  = \n",
      "   0.3648661\n",
      "   2.4081156\n",
      "   4.2032397\n",
      "   0.\n",
      "   0.\n",
      "   0.\n",
      "   0.\n",
      "   0.\n",
      "\u001b[0m\u001b[4l\u001b[0m C1  = \n",
      "   0.   0.   0.   0.   0.   0.   0.   1.\n",
      "\u001b[0m"
     ]
    }
   ],
   "source": [
    "A1 = [zeros(1, length(denom) - 1); eye(length(denom) - 1, length(denom) - 1)];\n",
    "A1 = [A1 -denom']\n",
    "B1 = numer'\n",
    "C1 = [zeros(1, length(denom) - 1) 1]"
   ]
  },
  {
   "cell_type": "code",
   "execution_count": 7,
   "metadata": {},
   "outputs": [
    {
     "name": "stdout",
     "output_type": "stream",
     "text": [
      "\u001b[4l\u001b[0m\u001b[0m\u001b[4l\u001b[0m Ad1  = \n",
      "   0.9999968  -0.0000225  -0.0001327  -0.0006299  -0.0022121  -0.0046974  -0.0011478   0.017974 \n",
      "   0.9999615   0.9997286  -0.0016073  -0.0076554  -0.0270479  -0.0583094  -0.018405    0.2135025\n",
      "   0.4998352   0.9988365   0.993081   -0.0331606  -0.1184638  -0.2623437  -0.1158049   0.8819306\n",
      "   0.166272    0.4972031   0.9832835   0.9192574  -0.2924135  -0.6689736  -0.3968633   1.9906652\n",
      "   0.0410016   0.161936    0.4715819   0.8616695   0.4921749  -1.1993007  -0.8905756   3.0732487\n",
      "   0.0076631   0.0368604   0.1374663   0.3554336   0.4537817  -0.3739533  -1.410943    2.4235764\n",
      "   0.0009872   0.0054103   0.0235487   0.0742806   0.133539   -0.0173999  -0.4890887   0.3919856\n",
      "   0.0000616   0.0003637   0.0017264   0.0060629   0.0128743   0.0031459  -0.049262    0.0098473\n",
      "\u001b[0m\u001b[4l\u001b[0m Sh  = \n",
      "   0.9999969   0.0000315  -0.000296    0.0025398  -0.019846    0.1410737  -0.9146053   5.4509687\n",
      "  -0.5000364   1.0003731  -0.003503    0.0300344  -0.2344658   1.6648908  -10.781365   64.18219 \n",
      "   0.1665159  -0.4984585   0.9855481   0.1237158  -0.9640688   6.8320438  -44.148507   262.26255\n",
      "  -0.0420135   0.1702078  -0.5331439   1.2831955  -2.202138    15.569091  -100.35528   594.67871\n",
      "   0.0077709  -0.0359317   0.1130685  -0.0428119  -2.54832     25.033906  -161.00687   952.02229\n",
      "  -0.0019051   0.0135794  -0.0905029   0.5813631  -3.7021245   23.463634  -143.60606   844.07286\n",
      "  -0.0000633   0.0012547  -0.0161079   0.1642536  -1.409336    10.448613  -68.278031   403.16637\n",
      "  -0.0000863   0.0008112  -0.0069608   0.0543925  -0.3866454   2.5066884  -14.939647   83.033816\n",
      "\u001b[0m\u001b[4l\u001b[0m Bd1  = \n",
      "   0.3647639\n",
      "   2.5893133\n",
      "   5.4628137\n",
      "   2.5054513\n",
      "   0.7824034\n",
      "   0.1738641\n",
      "   0.0251728\n",
      "   0.0016802\n",
      "\u001b[0m"
     ]
    }
   ],
   "source": [
    "// Ad1 = (A * h + eye(A))\n",
    "Ad1 = expm(A1*h)\n",
    "Sh = inv(A1)*(eye(A1)-expm(-A1*h))\n",
    "Bd1 = expm(A1*h)*Sh*B1"
   ]
  },
  {
   "cell_type": "code",
   "execution_count": 15,
   "metadata": {},
   "outputs": [
    {
     "name": "stdout",
     "output_type": "stream",
     "text": [
      "\u001b[4l\u001b[0m\u001b[0m\u001b[4l\u001b[0m\u001b[0m\u001b[4l\u001b[0m\u001b[0m\u001b[4l\u001b[0m\u001b[0m\u001b[4l\u001b[0m\u001b[0m\u001b[4l\u001b[0m\u001b[0m\u001b[4l\u001b[0m\u001b[0m\u001b[4l\u001b[0m\u001b[0m\u001b[4l\u001b[0m\u001b[0m\u001b[4l\u001b[0m\u001b[0m\u001b[4l\u001b[0m\u001b[0m\u001b[4l\u001b[0m\u001b[0m"
     ]
    },
    {
     "data": {
      "image/svg+xml": [
       "<svg xmlns:xlink=\"http://www.w3.org/1999/xlink\" xmlns=\"http://www.w3.org/2000/svg\" style=\"fill-opacity:1; color-rendering:auto; color-interpolation:auto; text-rendering:auto; stroke:black; stroke-linecap:square; stroke-miterlimit:10; shape-rendering:auto; stroke-opacity:1; fill:black; stroke-dasharray:none; font-weight:normal; stroke-width:1; font-family:'Dialog'; font-style:normal; stroke-linejoin:miter; font-size:12px; stroke-dashoffset:0; image-rendering:auto;\" width=\"548\" height=\"336\"><!--Generated by Scilab with Batik SVG Generator--><defs id=\"genericDefs\"/><g><defs id=\"defs1\"><clipPath clipPathUnits=\"userSpaceOnUse\" id=\"clipPath1\"><path d=\"M68.4959 41.9975 L479.5041 41.9975 L479.5041 294.0025 L68.4959 294.0025 L68.4959 41.9975 Z\" style=\"\"/></clipPath><font horiz-adv-x=\"60.0\" id=\"font1\"><font-face ascent=\"106.899895\" descent=\"29.299973\" units-per-em=\"100\" style=\"font-style:normal; font-family:sans-serif; font-weight:normal;\"/><missing-glyph horiz-adv-x=\"60.0\" d=\"M9.4062 0 L9.4062 71.4062 L50.5 71.4062 L50.5 0 L9.4062 0 ZM14.5 5.0938 L45.4062 5.0938 L45.4062 66.2969 L14.5 66.2969 L14.5 5.0938 Z\"/><glyph unicode=\"0\" horiz-adv-x=\"57.0\" d=\"M52.2969 35.7969 Q52.2969 24.2969 49.8906 16.0469 Q47.5 7.7969 42.2969 3.3906 Q37.0938 -1 28.5 -1 Q16.4062 -1 10.6562 8.75 Q4.9062 18.5 4.9062 35.7969 Q4.9062 47.4062 7.25 55.5938 Q9.5938 63.7969 14.7969 68.1406 Q20 72.5 28.5 72.5 Q40.5 72.5 46.3906 62.8438 Q52.2969 53.2031 52.2969 35.7969 ZM13.7031 35.7969 Q13.7031 21.0938 17.0469 13.7969 Q20.4062 6.5 28.5 6.5 Q36.5 6.5 39.9531 13.75 Q43.4062 21 43.4062 35.7969 Q43.4062 50.4062 39.9531 57.7031 Q36.5 65 28.5 65 Q20.4062 65 17.0469 57.7031 Q13.7031 50.4062 13.7031 35.7969 Z\"/><glyph unicode=\"1\" horiz-adv-x=\"57.0\" d=\"M35.5 0 L26.9062 0 L26.9062 49.9062 Q26.9062 54.2031 27 56.7969 Q27.0938 59.4062 27.2969 62.2031 Q25.7031 60.5938 24.3906 59.5 Q23.0938 58.4062 21.0938 56.7031 L13.5 50.5 L8.9062 56.4062 L28.2031 71.4062 L35.5 71.4062 L35.5 0 Z\"/><glyph unicode=\"2\" horiz-adv-x=\"57.0\" d=\"M52 0 L4.7969 0 L4.7969 7.2969 L23.5 26.2031 Q28.9062 31.5938 32.5938 35.7969 Q36.2969 40 38.1875 44.0469 Q40.0938 48.0938 40.0938 52.9062 Q40.0938 58.7969 36.5938 61.8438 Q33.0938 64.9062 27.5 64.9062 Q22.2969 64.9062 18.3438 63.0938 Q14.4062 61.2969 10.2969 58.0938 L5.5938 64 Q9.7969 67.5 15.25 69.9531 Q20.7031 72.4062 27.5 72.4062 Q37.5 72.4062 43.2969 67.3438 Q49.0938 62.2969 49.0938 53.4062 Q49.0938 47.7969 46.7969 42.8906 Q44.5 38 40.3906 33.25 Q36.2969 28.5 30.7969 23.0938 L15.9062 8.4062 L15.9062 8 L52 8 L52 0 Z\"/><glyph unicode=\"4\" horiz-adv-x=\"57.0\" d=\"M55.2031 16.2031 L44.7969 16.2031 L44.7969 0 L36.2969 0 L36.2969 16.2031 L2.0938 16.2031 L2.0938 23.7031 L35.7031 71.7969 L44.7969 71.7969 L44.7969 24.0938 L55.2031 24.0938 L55.2031 16.2031 ZM36.2969 46.5938 Q36.2969 51.7969 36.5 55.4375 Q36.7031 59.0938 36.7969 62.4062 L36.4062 62.4062 Q35.5938 60.5 34.3906 58.2969 Q33.2031 56.0938 32.0938 54.5938 L10.7031 24.0938 L36.2969 24.0938 L36.2969 46.5938 Z\"/><glyph unicode=\"6\" horiz-adv-x=\"57.0\" d=\"M5.5 30.5 Q5.5 38.2031 6.8438 45.6406 Q8.2031 53.0938 11.75 59.1406 Q15.2969 65.2031 21.6875 68.7969 Q28.0938 72.4062 38.2031 72.4062 Q40.2969 72.4062 42.8438 72.2031 Q45.4062 72 47 71.5 L47 64 Q45.2031 64.5938 42.9531 64.8906 Q40.7031 65.2031 38.4062 65.2031 Q31.5 65.2031 26.8906 62.8906 Q22.2969 60.5938 19.6406 56.5938 Q17 52.5938 15.7969 47.3906 Q14.5938 42.2031 14.2969 36.2969 L14.9062 36.2969 Q17.2031 39.7969 21.2969 42.25 Q25.4062 44.7031 31.7969 44.7031 Q41.0938 44.7031 46.7969 39.0469 Q52.5 33.4062 52.5 23 Q52.5 11.7969 46.3438 5.3906 Q40.2031 -1 29.7969 -1 Q23 -1 17.5 2.3906 Q12 5.7969 8.75 12.7969 Q5.5 19.7969 5.5 30.5 ZM29.7031 6.4062 Q36 6.4062 39.8906 10.4531 Q43.7969 14.5 43.7969 23 Q43.7969 29.7969 40.3438 33.7969 Q36.9062 37.7969 30 37.7969 Q25.2969 37.7969 21.7969 35.8438 Q18.2969 33.9062 16.3438 30.9062 Q14.4062 27.9062 14.4062 24.7031 Q14.4062 20.4062 16.0938 16.1562 Q17.7969 11.9062 21.1875 9.1562 Q24.5938 6.4062 29.7031 6.4062 Z\"/><glyph unicode=\"8\" horiz-adv-x=\"57.0\" d=\"M28.5 72.4062 Q37.9062 72.4062 43.9062 68 Q49.9062 63.5938 49.9062 55.2969 Q49.9062 51 48.0469 47.7969 Q46.2031 44.5938 43.0938 42.1406 Q40 39.7031 36.2969 37.7969 Q40.7031 35.7031 44.2969 33.0469 Q47.9062 30.4062 50.0469 26.9062 Q52.2031 23.4062 52.2031 18.5 Q52.2031 9.5 45.8438 4.25 Q39.5 -1 28.7969 -1 Q17.2969 -1 11.0938 4.0469 Q4.9062 9.0938 4.9062 18.2031 Q4.9062 23.0938 6.9531 26.6875 Q9 30.2969 12.3906 32.8906 Q15.7969 35.5 19.7031 37.2969 Q14.5 40.2969 10.8438 44.5469 Q7.2031 48.7969 7.2031 55.4062 Q7.2031 60.9062 10 64.6562 Q12.7969 68.4062 17.5938 70.4062 Q22.4062 72.4062 28.5 72.4062 ZM28.4062 65.2969 Q22.9062 65.2969 19.3438 62.6406 Q15.7969 60 15.7969 55 Q15.7969 51.2969 17.5469 48.7969 Q19.2969 46.2969 22.2969 44.5469 Q25.2969 42.7969 28.9062 41.2031 Q34.0938 43.4062 37.6406 46.5 Q41.2031 49.5938 41.2031 55 Q41.2031 60 37.7031 62.6406 Q34.2031 65.2969 28.4062 65.2969 ZM13.5 18.0938 Q13.5 12.9062 17.2031 9.4531 Q20.9062 6 28.5938 6 Q35.9062 6 39.75 9.4531 Q43.5938 12.9062 43.5938 18.4062 Q43.5938 23.5938 39.5 27.0469 Q35.4062 30.5 28.5938 33.0938 L27 33.7031 Q20.4062 30.9062 16.9531 27.25 Q13.5 23.5938 13.5 18.0938 Z\"/><glyph unicode=\"3\" horiz-adv-x=\"57.0\" d=\"M49.2969 54.7031 Q49.2969 47.5 45.2969 43.25 Q41.2969 39 34.5 37.5938 L34.5 37.2031 Q43.0938 36.2031 47.2969 31.7969 Q51.5 27.4062 51.5 20.2969 Q51.5 14.0938 48.5938 9.25 Q45.7031 4.4062 39.6406 1.7031 Q33.5938 -1 24.0938 -1 Q18.5 -1 13.7031 -0.1406 Q8.9062 0.7031 4.5 2.9062 L4.5 11.0938 Q9 8.9062 14.2031 7.6562 Q19.4062 6.4062 24.2031 6.4062 Q33.7969 6.4062 38.0469 10.1562 Q42.2969 13.9062 42.2969 20.5 Q42.2969 27.2031 37.0469 30.1406 Q31.7969 33.0938 22.2969 33.0938 L15.4062 33.0938 L15.4062 40.5938 L22.4062 40.5938 Q31.2031 40.5938 35.75 44.2969 Q40.2969 48 40.2969 54.0938 Q40.2969 59.2969 36.7969 62.1406 Q33.2969 65 27.2969 65 Q21.5 65 17.3906 63.2969 Q13.2969 61.5938 9.2969 59 L4.9062 65 Q8.7031 68 14.3438 70.2031 Q20 72.4062 27.2031 72.4062 Q38.4062 72.4062 43.8438 67.4062 Q49.2969 62.4062 49.2969 54.7031 Z\"/><glyph unicode=\"5\" horiz-adv-x=\"57.0\" d=\"M27.5 43.7969 Q38.5 43.7969 45 38.2969 Q51.5 32.7969 51.5 22.7969 Q51.5 11.7031 44.4531 5.3438 Q37.4062 -1 24.7969 -1 Q19.2969 -1 14.4375 0 Q9.5938 1 6.2969 2.9062 L6.2969 11.2031 Q9.9062 9 15.0469 7.75 Q20.2031 6.5 24.9062 6.5 Q32.7969 6.5 37.6406 10.25 Q42.5 14 42.5 21.9062 Q42.5 28.9062 38.2031 32.6562 Q33.9062 36.4062 24.5938 36.4062 Q21.7969 36.4062 18.1875 35.9062 Q14.5938 35.4062 12.4062 34.9062 L8 37.7031 L10.7031 71.4062 L46.5 71.4062 L46.5 63.4062 L18.2031 63.4062 L16.5 42.7031 Q18.2031 43 21.0938 43.3906 Q24 43.7969 27.5 43.7969 Z\"/><glyph unicode=\"7\" horiz-adv-x=\"57.0\" d=\"M13.5938 0 L42.9062 63.4062 L4.4062 63.4062 L4.4062 71.4062 L52.2969 71.4062 L52.2969 64.5938 L23.2969 0 L13.5938 0 Z\"/><glyph unicode=\"9\" horiz-adv-x=\"57.0\" d=\"M52 40.9062 Q52 33.2031 50.6406 25.75 Q49.2969 18.2969 45.75 12.25 Q42.2031 6.2031 35.75 2.5938 Q29.2969 -1 19.2031 -1 Q17.2031 -1 14.5469 -0.75 Q11.9062 -0.5 10.2031 0 L10.2031 7.5 Q14.0938 6.2031 19 6.2031 Q26 6.2031 30.5469 8.5 Q35.0938 10.7969 37.7969 14.75 Q40.5 18.7031 41.7031 23.9531 Q42.9062 29.2031 43.0938 35 L42.5 35 Q40.2969 31.5938 36.1406 29.1406 Q32 26.7031 25.5 26.7031 Q16.2969 26.7031 10.6406 32.3438 Q5 38 5 48.2969 Q5 55.7969 7.8438 61.1875 Q10.7031 66.5938 15.7969 69.5 Q20.9062 72.4062 27.7969 72.4062 Q34.5938 72.4062 40.0938 68.9531 Q45.5938 65.5 48.7969 58.5469 Q52 51.5938 52 40.9062 ZM27.7969 65 Q21.5938 65 17.6406 60.8906 Q13.7031 56.7969 13.7031 48.4062 Q13.7031 41.5 17.0469 37.5469 Q20.4062 33.5938 27.4062 33.5938 Q32.2031 33.5938 35.7031 35.5469 Q39.2031 37.5 41.1406 40.5 Q43.0938 43.5 43.0938 46.7031 Q43.0938 51 41.3906 55.2031 Q39.7031 59.4062 36.2969 62.2031 Q32.9062 65 27.7969 65 Z\"/><glyph unicode=\".\" horiz-adv-x=\"27.0\" d=\"M7.2031 5.4062 Q7.2031 9.0938 9 10.5938 Q10.7969 12.0938 13.2969 12.0938 Q15.9062 12.0938 17.75 10.5938 Q19.5938 9.0938 19.5938 5.4062 Q19.5938 1.7969 17.75 0.1875 Q15.9062 -1.4062 13.2969 -1.4062 Q10.7969 -1.4062 9 0.1875 Q7.2031 1.7969 7.2031 5.4062 Z\"/></font></defs><g style=\"fill:white; text-rendering:optimizeLegibility; stroke:white;\"><rect x=\"0\" width=\"548\" height=\"336\" y=\"0\" style=\"stroke:none;\"/></g><g style=\"stroke-linecap:butt; fill:white; text-rendering:geometricPrecision; stroke-linejoin:bevel; shape-rendering:crispEdges; stroke:white; stroke-width:0;\"><path style=\"stroke:none;\" d=\"M479.5 42 L479.5 294 L68.5 42 Z\"/><path style=\"stroke:none;\" d=\"M479.5 294 L68.5 294 L68.5 42 Z\"/><path style=\"stroke:none;\" d=\"M479.5 42 L479.5 294 L479.5 294 Z\"/><path style=\"stroke:none;\" d=\"M68.5 42 L68.5 294 L68.5 294 Z\"/><path style=\"stroke:none;\" d=\"M479.5 42 L479.5 294 L68.5 42 Z\"/><path style=\"stroke:none;\" d=\"M479.5 294 L68.5 294 L68.5 42 Z\"/><path style=\"stroke:none;\" d=\"M479.5 42 L479.5 42 L479.5 294 Z\"/><path style=\"stroke:none;\" d=\"M68.5 42 L68.5 42 L68.5 294 Z\"/><path style=\"stroke:none;\" d=\"M479.5 42 L68.5 42 L479.5 42 Z\"/><path style=\"stroke:none;\" d=\"M68.5 42 L68.5 42 L479.5 42 Z\"/><path style=\"stroke:none;\" d=\"M479.5 294 L68.5 294 L479.5 294 Z\"/><path style=\"stroke:none;\" d=\"M68.5 294 L68.5 294 L479.5 294 Z\"/></g><g transform=\"translate(65,303)\" style=\"font-size:10px; stroke-linecap:butt; text-rendering:geometricPrecision; font-family:sans-serif; stroke-linejoin:bevel; stroke-width:0;\"><text x=\"-0.4844\" xml:space=\"preserve\" y=\"10.69\" style=\"stroke:none;\">0</text></g><g transform=\"translate(470,303)\" style=\"font-size:10px; stroke-linecap:butt; text-rendering:geometricPrecision; font-family:sans-serif; stroke-linejoin:bevel; stroke-width:0;\"><text x=\"-0.8906\" xml:space=\"preserve\" y=\"10.69\" style=\"stroke:none;\">100</text></g><g transform=\"translate(144.2,303)\" style=\"font-size:10px; stroke-linecap:butt; text-rendering:geometricPrecision; font-family:sans-serif; stroke-linejoin:bevel; stroke-width:0;\"><text x=\"-0.4844\" xml:space=\"preserve\" y=\"10.69\" style=\"stroke:none;\">20</text></g><g transform=\"translate(225.9,303)\" style=\"font-size:10px; stroke-linecap:butt; text-rendering:geometricPrecision; font-family:sans-serif; stroke-linejoin:bevel; stroke-width:0;\"><text x=\"-0.2031\" xml:space=\"preserve\" y=\"10.69\" style=\"stroke:none;\">40</text></g><g transform=\"translate(308.6,303)\" style=\"font-size:10px; stroke-linecap:butt; text-rendering:geometricPrecision; font-family:sans-serif; stroke-linejoin:bevel; stroke-width:0;\"><text x=\"-0.5469\" xml:space=\"preserve\" y=\"10.69\" style=\"stroke:none;\">60</text></g><g transform=\"translate(390.8,303)\" style=\"font-size:10px; stroke-linecap:butt; text-rendering:geometricPrecision; font-family:sans-serif; stroke-linejoin:bevel; stroke-width:0;\"><text x=\"-0.4844\" xml:space=\"preserve\" y=\"10.69\" style=\"stroke:none;\">80</text></g><g transform=\"translate(103.1,303)\" style=\"font-size:10px; stroke-linecap:butt; text-rendering:geometricPrecision; font-family:sans-serif; stroke-linejoin:bevel; stroke-width:0;\"><text x=\"-0.8906\" xml:space=\"preserve\" y=\"10.69\" style=\"stroke:none;\">10</text></g><g transform=\"translate(185.3,303)\" style=\"font-size:10px; stroke-linecap:butt; text-rendering:geometricPrecision; font-family:sans-serif; stroke-linejoin:bevel; stroke-width:0;\"><text x=\"-0.4531\" xml:space=\"preserve\" y=\"10.69\" style=\"stroke:none;\">30</text></g><g transform=\"translate(267.5,303)\" style=\"font-size:10px; stroke-linecap:butt; text-rendering:geometricPrecision; font-family:sans-serif; stroke-linejoin:bevel; stroke-width:0;\"><text x=\"-0.625\" xml:space=\"preserve\" y=\"10.69\" style=\"stroke:none;\">50</text></g><g transform=\"translate(349.7,303)\" style=\"font-size:10px; stroke-linecap:butt; text-rendering:geometricPrecision; font-family:sans-serif; stroke-linejoin:bevel; stroke-width:0;\"><text x=\"-0.4375\" xml:space=\"preserve\" y=\"10.69\" style=\"stroke:none;\">70</text></g><g transform=\"translate(431.9,303)\" style=\"font-size:10px; stroke-linecap:butt; text-rendering:geometricPrecision; font-family:sans-serif; stroke-linejoin:bevel; stroke-width:0;\"><text x=\"-0.5\" xml:space=\"preserve\" y=\"10.69\" style=\"stroke:none;\">90</text></g><g style=\"text-rendering:geometricPrecision; font-size:10px; shape-rendering:crispEdges; font-family:sans-serif; stroke-linecap:butt;\"><path style=\"fill:none;\" d=\"M68.5 294 L68.5 300\"/><path style=\"fill:none;\" d=\"M109.6 294 L109.6 300\"/><path style=\"fill:none;\" d=\"M150.7 294 L150.7 300\"/><path style=\"fill:none;\" d=\"M191.8 294 L191.8 300\"/><path style=\"fill:none;\" d=\"M232.9 294 L232.9 300\"/><path style=\"fill:none;\" d=\"M274 294 L274 300\"/><path style=\"fill:none;\" d=\"M315.1 294 L315.1 300\"/><path style=\"fill:none;\" d=\"M356.2 294 L356.2 300\"/><path style=\"fill:none;\" d=\"M397.3 294 L397.3 300\"/><path style=\"fill:none;\" d=\"M438.4 294 L438.4 300\"/><path style=\"fill:none;\" d=\"M479.5 294 L479.5 300\"/><path style=\"fill:none;\" d=\"M68.5 294 L68.5 297\"/><path style=\"fill:none;\" d=\"M89.05 294 L89.05 297\"/><path style=\"fill:none;\" d=\"M109.6 294 L109.6 297\"/><path style=\"fill:none;\" d=\"M130.15 294 L130.15 297\"/><path style=\"fill:none;\" d=\"M150.7 294 L150.7 297\"/><path style=\"fill:none;\" d=\"M171.25 294 L171.25 297\"/><path style=\"fill:none;\" d=\"M191.8 294 L191.8 297\"/><path style=\"fill:none;\" d=\"M212.35 294 L212.35 297\"/><path style=\"fill:none;\" d=\"M232.9 294 L232.9 297\"/><path style=\"fill:none;\" d=\"M253.45 294 L253.45 297\"/><path style=\"fill:none;\" d=\"M274 294 L274 297\"/><path style=\"fill:none;\" d=\"M294.55 294 L294.55 297\"/><path style=\"fill:none;\" d=\"M315.1 294 L315.1 297\"/><path style=\"fill:none;\" d=\"M335.65 294 L335.65 297\"/><path style=\"fill:none;\" d=\"M356.2 294 L356.2 297\"/><path style=\"fill:none;\" d=\"M376.75 294 L376.75 297\"/><path style=\"fill:none;\" d=\"M397.3 294 L397.3 297\"/><path style=\"fill:none;\" d=\"M417.85 294 L417.85 297\"/><path style=\"fill:none;\" d=\"M438.4 294 L438.4 297\"/><path style=\"fill:none;\" d=\"M458.95 294 L458.95 297\"/><path style=\"fill:none;\" d=\"M479.5 294 L479.5 297\"/><path style=\"fill:none;\" d=\"M479.5 294 L68.5 294\"/><text x=\"-0.4844\" y=\"10.69\" transform=\"translate(52.5,286.5)\" style=\"stroke-linejoin:bevel; shape-rendering:auto; stroke:none; stroke-width:0;\" xml:space=\"preserve\">0</text></g><g transform=\"translate(54.5,76.5)\" style=\"font-size:10px; stroke-linecap:butt; text-rendering:geometricPrecision; font-family:sans-serif; stroke-linejoin:bevel; stroke-width:0;\"><text x=\"-0.8906\" xml:space=\"preserve\" y=\"10.69\" style=\"stroke:none;\">1</text></g><g transform=\"translate(43.5,244.5)\" style=\"font-size:10px; stroke-linecap:butt; text-rendering:geometricPrecision; font-family:sans-serif; stroke-linejoin:bevel; stroke-width:0;\"><text x=\"-0.4844\" xml:space=\"preserve\" y=\"10.69\" style=\"stroke:none;\">0.2</text></g><g transform=\"translate(42.5,202.5)\" style=\"font-size:10px; stroke-linecap:butt; text-rendering:geometricPrecision; font-family:sans-serif; stroke-linejoin:bevel; stroke-width:0;\"><text x=\"-0.4844\" xml:space=\"preserve\" y=\"10.69\" style=\"stroke:none;\">0.4</text></g><g transform=\"translate(43.5,160.5)\" style=\"font-size:10px; stroke-linecap:butt; text-rendering:geometricPrecision; font-family:sans-serif; stroke-linejoin:bevel; stroke-width:0;\"><text x=\"-0.4844\" xml:space=\"preserve\" y=\"10.69\" style=\"stroke:none;\">0.6</text></g><g transform=\"translate(43.5,118.5)\" style=\"font-size:10px; stroke-linecap:butt; text-rendering:geometricPrecision; font-family:sans-serif; stroke-linejoin:bevel; stroke-width:0;\"><text x=\"-0.4844\" xml:space=\"preserve\" y=\"10.69\" style=\"stroke:none;\">0.8</text></g><g transform=\"translate(43.5,34.5)\" style=\"font-size:10px; stroke-linecap:butt; text-rendering:geometricPrecision; font-family:sans-serif; stroke-linejoin:bevel; stroke-width:0;\"><text x=\"-0.8906\" xml:space=\"preserve\" y=\"10.69\" style=\"stroke:none;\">1.2</text></g><g style=\"text-rendering:geometricPrecision; font-size:10px; shape-rendering:crispEdges; font-family:sans-serif; stroke-linecap:butt;\"><path style=\"fill:none;\" d=\"M68.5 294 L62.5 294\"/><path style=\"fill:none;\" d=\"M68.5 252 L62.5 252\"/><path style=\"fill:none;\" d=\"M68.5 210 L62.5 210\"/><path style=\"fill:none;\" d=\"M68.5 168 L62.5 168\"/><path style=\"fill:none;\" d=\"M68.5 126 L62.5 126\"/><path style=\"fill:none;\" d=\"M68.5 84 L62.5 84\"/><path style=\"fill:none;\" d=\"M68.5 42 L62.5 42\"/><path style=\"fill:none;\" d=\"M68.5 294 L65.5 294\"/><path style=\"fill:none;\" d=\"M68.5 273 L65.5 273\"/><path style=\"fill:none;\" d=\"M68.5 252 L65.5 252\"/><path style=\"fill:none;\" d=\"M68.5 231 L65.5 231\"/><path style=\"fill:none;\" d=\"M68.5 210 L65.5 210\"/><path style=\"fill:none;\" d=\"M68.5 189 L65.5 189\"/><path style=\"fill:none;\" d=\"M68.5 168 L65.5 168\"/><path style=\"fill:none;\" d=\"M68.5 147 L65.5 147\"/><path style=\"fill:none;\" d=\"M68.5 126 L65.5 126\"/><path style=\"fill:none;\" d=\"M68.5 105 L65.5 105\"/><path style=\"fill:none;\" d=\"M68.5 84 L65.5 84\"/><path style=\"fill:none;\" d=\"M68.5 63 L65.5 63\"/><path style=\"fill:none;\" d=\"M68.5 42 L65.5 42\"/><path style=\"fill:none;\" d=\"M68.5 42 L68.5 294\"/><path d=\"M72.61 294 L76.72 293.6472 L80.83 286.3009 L84.94 260.6803 L89.05 217.1513 L93.16 166.4628 L97.27 120.8576 L101.38 88.7167 L105.49 73.0698 L109.6 72.2415 L113.71 81.5008 L117.82 95.0013 L121.93 107.4867 L126.04 115.4134 L130.15 117.3671 L134.26 113.8519 L138.37 106.6631 L142.48 98.1056 L146.59 90.2875 L150.7 84.645 L154.81 81.7551 L158.92 81.4071 L163.03 82.8516 L167.14 85.1178 L171.25 87.3046 L175.36 88.7808 L179.47 89.2683 L183.58 88.8175 L187.69 87.7085 L191.8 86.3216 L195.91 85.0172 L200.02 84.0506 L204.13 83.5351 L208.24 83.4499 L212.35 83.6785 L216.46 84.0611 L220.57 84.4447 L224.68 84.7178 L228.79 84.8273 L232.9 84.776 L237.01 84.6073 L241.12 84.3838 L245.23 84.1668 L249.34 84.0015 L253.45 83.9099 L257.56 83.8907 L261.67 83.9263 L265.78 83.9904 L269.89 84.0571 L274 84.1069 L278.11 84.1297 L282.22 84.1252 L286.33 84.0998 L290.44 84.0639 L294.55 84.0278 L298.66 83.9996 L302.77 83.9833 L306.88 83.9792 L310.99 83.9846 L315.1 83.9952 L319.21 84.0067 L323.32 84.0157 L327.43 84.0203 L331.54 84.0202 L335.65 84.0164 L339.76 84.0106 L343.87 84.0047 L347.98 83.9998 L352.09 83.9969 L356.2 83.9961 L360.31 83.9969 L364.42 83.9986 L368.53 84.0006 L372.64 84.0022 L376.75 84.0031 L380.86 84.0032 L384.97 84.0026 L389.08 84.0017 L393.19 84.0007 L397.3 83.9999 L401.41 83.9994 L405.52 83.9992 L409.63 83.9993 L413.74 83.9996 L417.85 84 L421.96 84.0002 L426.07 84.0004 L430.18 84.0004 L434.29 84.0004 L438.4 84.0002 L442.51 84 L446.62 83.9999 L450.73 83.9998 L454.84 83.9998 L458.95 83.9998 L463.06 83.9998 L467.17 83.9999 L471.28 84 L475.39 84 L479.5 84\" style=\"fill:none; shape-rendering:geometricPrecision; clip-path:url(#clipPath1); stroke:blue;\"/><path style=\"fill:none;\" d=\"M68.5 294 L68.5 42 L68.5 42 L479.5 42 L479.5 294 L479.5 294 L68.5 294\"/><path style=\"fill:none;\" d=\"M479.5 42 L68.5 42\"/><path style=\"fill:none;\" d=\"M479.5 42 L479.5 294\"/><path style=\"fill:none;\" d=\"M479.5 42 L479.5 42\"/></g></g></svg>"
      ],
      "text/plain": [
       "<IPython.core.display.SVG object>"
      ]
     },
     "metadata": {},
     "output_type": "display_data"
    }
   ],
   "source": [
    "hd1 = [];\n",
    "// adk1 = eye(Ad1);\n",
    "// for k=1:100 \n",
    "//     hd1 = [hd1; C1 * adk1 * B1];\n",
    "//     adk1 = adk1 * Ad1;\n",
    "// end;\n",
    "v = zeros(Bd1);\n",
    "for k=1:100\n",
    "    hd1 = [hd1; C1 * v];\n",
    "    v = Ad1 * v + Bd1;\n",
    "end;\n",
    "plot(hd1)"
   ]
  },
  {
   "cell_type": "code",
   "execution_count": 9,
   "metadata": {},
   "outputs": [
    {
     "name": "stdout",
     "output_type": "stream",
     "text": [
      "\u001b[4l\u001b[0m\u001b[0m\u001b[4l\u001b[0m\u001b[0m\u001b[4l\u001b[0m Ad2  = \n",
      "   1.1886774   0.3927131  -0.1424513  -0.0774013  -0.051922   -0.0301443  -0.0001962   0.0000007\n",
      "  -0.0933285   1.1145721  -0.7855475  -0.5975931  -0.4875615  -0.3148532  -0.0027345   0.0000128\n",
      "   0.2187694   0.3828655   0.6104965   0.9834196   1.1226246   0.8554408   0.0120602  -0.0000759\n",
      "   0.244259    0.3501539  -0.6297679  -0.3811835  -0.0712062   0.1010054   0.0122047  -0.0001283\n",
      "   0.0222299   0.0516183  -0.1100631  -0.3526318  -0.4889657  -0.3941166   0.0001311  -0.0000607\n",
      "  -0.0268651  -0.0345263   0.0484428   0.0758863   0.0489869   0.0098485  -0.001621    0.0000023\n",
      "   0.032872    0.2535136   0.4421642   0.0502591   0.0213064  -0.010303    0.7957312  -0.017736 \n",
      "   0.1601644   0.081207   -0.1567063  -0.0878009  -0.0489301  -0.023159    0.2766437   0.7018676\n",
      "\u001b[0m\u001b[4l\u001b[0m Bd2  = \n",
      "  -0.0164045\n",
      "  -0.2307345\n",
      "   1.0344571\n",
      "   1.0924888\n",
      "   0.0662209\n",
      "  -0.1301034\n",
      "  -0.0580765\n",
      "   0.0067661\n",
      "\u001b[0m\u001b[4l\u001b[0m Cd2  = \n",
      "  -0.1024255  -3.469D-18  -8.674D-19   2.168D-19   4.066D-20   0.   3.469D-18   0.\n",
      "\u001b[0m"
     ]
    }
   ],
   "source": [
    "sys = syslin('c', w);\n",
    "sysd = dscr(sys, h);\n",
    "Ad2 = sysd.A\n",
    "Bd2 = sysd.B\n",
    "Cd2 = sysd.C"
   ]
  },
  {
   "cell_type": "code",
   "execution_count": 10,
   "metadata": {},
   "outputs": [
    {
     "name": "stdout",
     "output_type": "stream",
     "text": [
      "\u001b[4l\u001b[0m\u001b[0m\u001b[4l\u001b[0m\u001b[0m\u001b[4l\u001b[0m\u001b[0m\u001b[4l\u001b[0m\u001b[0m\u001b[4l\u001b[0m\u001b[0m\u001b[4l\u001b[0m\u001b[0m\u001b[4l\u001b[0m\u001b[0m\u001b[4l\u001b[0m\u001b[0m\u001b[4l\u001b[0m\u001b[0m\u001b[4l\u001b[0m\u001b[0m\u001b[4l\u001b[0m\u001b[0m\u001b[4l\u001b[0m\u001b[0m"
     ]
    },
    {
     "data": {
      "image/svg+xml": [
       "<svg xmlns:xlink=\"http://www.w3.org/1999/xlink\" xmlns=\"http://www.w3.org/2000/svg\" style=\"fill-opacity:1; color-rendering:auto; color-interpolation:auto; text-rendering:auto; stroke:black; stroke-linecap:square; stroke-miterlimit:10; shape-rendering:auto; stroke-opacity:1; fill:black; stroke-dasharray:none; font-weight:normal; stroke-width:1; font-family:'Dialog'; font-style:normal; stroke-linejoin:miter; font-size:12px; stroke-dashoffset:0; image-rendering:auto;\" width=\"548\" height=\"336\"><!--Generated by Scilab with Batik SVG Generator--><defs id=\"genericDefs\"/><g><defs id=\"defs1\"><clipPath clipPathUnits=\"userSpaceOnUse\" id=\"clipPath1\"><path d=\"M68.4959 41.9975 L479.5041 41.9975 L479.5041 294.0025 L68.4959 294.0025 L68.4959 41.9975 Z\" style=\"\"/></clipPath><font horiz-adv-x=\"60.0\" id=\"font1\"><font-face ascent=\"106.899895\" descent=\"29.299973\" units-per-em=\"100\" style=\"font-style:normal; font-family:sans-serif; font-weight:normal;\"/><missing-glyph horiz-adv-x=\"60.0\" d=\"M9.4062 0 L9.4062 71.4062 L50.5 71.4062 L50.5 0 L9.4062 0 ZM14.5 5.0938 L45.4062 5.0938 L45.4062 66.2969 L14.5 66.2969 L14.5 5.0938 Z\"/><glyph unicode=\"0\" horiz-adv-x=\"57.0\" d=\"M52.2969 35.7969 Q52.2969 24.2969 49.8906 16.0469 Q47.5 7.7969 42.2969 3.3906 Q37.0938 -1 28.5 -1 Q16.4062 -1 10.6562 8.75 Q4.9062 18.5 4.9062 35.7969 Q4.9062 47.4062 7.25 55.5938 Q9.5938 63.7969 14.7969 68.1406 Q20 72.5 28.5 72.5 Q40.5 72.5 46.3906 62.8438 Q52.2969 53.2031 52.2969 35.7969 ZM13.7031 35.7969 Q13.7031 21.0938 17.0469 13.7969 Q20.4062 6.5 28.5 6.5 Q36.5 6.5 39.9531 13.75 Q43.4062 21 43.4062 35.7969 Q43.4062 50.4062 39.9531 57.7031 Q36.5 65 28.5 65 Q20.4062 65 17.0469 57.7031 Q13.7031 50.4062 13.7031 35.7969 Z\"/><glyph unicode=\"1\" horiz-adv-x=\"57.0\" d=\"M35.5 0 L26.9062 0 L26.9062 49.9062 Q26.9062 54.2031 27 56.7969 Q27.0938 59.4062 27.2969 62.2031 Q25.7031 60.5938 24.3906 59.5 Q23.0938 58.4062 21.0938 56.7031 L13.5 50.5 L8.9062 56.4062 L28.2031 71.4062 L35.5 71.4062 L35.5 0 Z\"/><glyph unicode=\"2\" horiz-adv-x=\"57.0\" d=\"M52 0 L4.7969 0 L4.7969 7.2969 L23.5 26.2031 Q28.9062 31.5938 32.5938 35.7969 Q36.2969 40 38.1875 44.0469 Q40.0938 48.0938 40.0938 52.9062 Q40.0938 58.7969 36.5938 61.8438 Q33.0938 64.9062 27.5 64.9062 Q22.2969 64.9062 18.3438 63.0938 Q14.4062 61.2969 10.2969 58.0938 L5.5938 64 Q9.7969 67.5 15.25 69.9531 Q20.7031 72.4062 27.5 72.4062 Q37.5 72.4062 43.2969 67.3438 Q49.0938 62.2969 49.0938 53.4062 Q49.0938 47.7969 46.7969 42.8906 Q44.5 38 40.3906 33.25 Q36.2969 28.5 30.7969 23.0938 L15.9062 8.4062 L15.9062 8 L52 8 L52 0 Z\"/><glyph unicode=\"4\" horiz-adv-x=\"57.0\" d=\"M55.2031 16.2031 L44.7969 16.2031 L44.7969 0 L36.2969 0 L36.2969 16.2031 L2.0938 16.2031 L2.0938 23.7031 L35.7031 71.7969 L44.7969 71.7969 L44.7969 24.0938 L55.2031 24.0938 L55.2031 16.2031 ZM36.2969 46.5938 Q36.2969 51.7969 36.5 55.4375 Q36.7031 59.0938 36.7969 62.4062 L36.4062 62.4062 Q35.5938 60.5 34.3906 58.2969 Q33.2031 56.0938 32.0938 54.5938 L10.7031 24.0938 L36.2969 24.0938 L36.2969 46.5938 Z\"/><glyph unicode=\"6\" horiz-adv-x=\"57.0\" d=\"M5.5 30.5 Q5.5 38.2031 6.8438 45.6406 Q8.2031 53.0938 11.75 59.1406 Q15.2969 65.2031 21.6875 68.7969 Q28.0938 72.4062 38.2031 72.4062 Q40.2969 72.4062 42.8438 72.2031 Q45.4062 72 47 71.5 L47 64 Q45.2031 64.5938 42.9531 64.8906 Q40.7031 65.2031 38.4062 65.2031 Q31.5 65.2031 26.8906 62.8906 Q22.2969 60.5938 19.6406 56.5938 Q17 52.5938 15.7969 47.3906 Q14.5938 42.2031 14.2969 36.2969 L14.9062 36.2969 Q17.2031 39.7969 21.2969 42.25 Q25.4062 44.7031 31.7969 44.7031 Q41.0938 44.7031 46.7969 39.0469 Q52.5 33.4062 52.5 23 Q52.5 11.7969 46.3438 5.3906 Q40.2031 -1 29.7969 -1 Q23 -1 17.5 2.3906 Q12 5.7969 8.75 12.7969 Q5.5 19.7969 5.5 30.5 ZM29.7031 6.4062 Q36 6.4062 39.8906 10.4531 Q43.7969 14.5 43.7969 23 Q43.7969 29.7969 40.3438 33.7969 Q36.9062 37.7969 30 37.7969 Q25.2969 37.7969 21.7969 35.8438 Q18.2969 33.9062 16.3438 30.9062 Q14.4062 27.9062 14.4062 24.7031 Q14.4062 20.4062 16.0938 16.1562 Q17.7969 11.9062 21.1875 9.1562 Q24.5938 6.4062 29.7031 6.4062 Z\"/><glyph unicode=\"8\" horiz-adv-x=\"57.0\" d=\"M28.5 72.4062 Q37.9062 72.4062 43.9062 68 Q49.9062 63.5938 49.9062 55.2969 Q49.9062 51 48.0469 47.7969 Q46.2031 44.5938 43.0938 42.1406 Q40 39.7031 36.2969 37.7969 Q40.7031 35.7031 44.2969 33.0469 Q47.9062 30.4062 50.0469 26.9062 Q52.2031 23.4062 52.2031 18.5 Q52.2031 9.5 45.8438 4.25 Q39.5 -1 28.7969 -1 Q17.2969 -1 11.0938 4.0469 Q4.9062 9.0938 4.9062 18.2031 Q4.9062 23.0938 6.9531 26.6875 Q9 30.2969 12.3906 32.8906 Q15.7969 35.5 19.7031 37.2969 Q14.5 40.2969 10.8438 44.5469 Q7.2031 48.7969 7.2031 55.4062 Q7.2031 60.9062 10 64.6562 Q12.7969 68.4062 17.5938 70.4062 Q22.4062 72.4062 28.5 72.4062 ZM28.4062 65.2969 Q22.9062 65.2969 19.3438 62.6406 Q15.7969 60 15.7969 55 Q15.7969 51.2969 17.5469 48.7969 Q19.2969 46.2969 22.2969 44.5469 Q25.2969 42.7969 28.9062 41.2031 Q34.0938 43.4062 37.6406 46.5 Q41.2031 49.5938 41.2031 55 Q41.2031 60 37.7031 62.6406 Q34.2031 65.2969 28.4062 65.2969 ZM13.5 18.0938 Q13.5 12.9062 17.2031 9.4531 Q20.9062 6 28.5938 6 Q35.9062 6 39.75 9.4531 Q43.5938 12.9062 43.5938 18.4062 Q43.5938 23.5938 39.5 27.0469 Q35.4062 30.5 28.5938 33.0938 L27 33.7031 Q20.4062 30.9062 16.9531 27.25 Q13.5 23.5938 13.5 18.0938 Z\"/><glyph unicode=\"3\" horiz-adv-x=\"57.0\" d=\"M49.2969 54.7031 Q49.2969 47.5 45.2969 43.25 Q41.2969 39 34.5 37.5938 L34.5 37.2031 Q43.0938 36.2031 47.2969 31.7969 Q51.5 27.4062 51.5 20.2969 Q51.5 14.0938 48.5938 9.25 Q45.7031 4.4062 39.6406 1.7031 Q33.5938 -1 24.0938 -1 Q18.5 -1 13.7031 -0.1406 Q8.9062 0.7031 4.5 2.9062 L4.5 11.0938 Q9 8.9062 14.2031 7.6562 Q19.4062 6.4062 24.2031 6.4062 Q33.7969 6.4062 38.0469 10.1562 Q42.2969 13.9062 42.2969 20.5 Q42.2969 27.2031 37.0469 30.1406 Q31.7969 33.0938 22.2969 33.0938 L15.4062 33.0938 L15.4062 40.5938 L22.4062 40.5938 Q31.2031 40.5938 35.75 44.2969 Q40.2969 48 40.2969 54.0938 Q40.2969 59.2969 36.7969 62.1406 Q33.2969 65 27.2969 65 Q21.5 65 17.3906 63.2969 Q13.2969 61.5938 9.2969 59 L4.9062 65 Q8.7031 68 14.3438 70.2031 Q20 72.4062 27.2031 72.4062 Q38.4062 72.4062 43.8438 67.4062 Q49.2969 62.4062 49.2969 54.7031 Z\"/><glyph unicode=\"5\" horiz-adv-x=\"57.0\" d=\"M27.5 43.7969 Q38.5 43.7969 45 38.2969 Q51.5 32.7969 51.5 22.7969 Q51.5 11.7031 44.4531 5.3438 Q37.4062 -1 24.7969 -1 Q19.2969 -1 14.4375 0 Q9.5938 1 6.2969 2.9062 L6.2969 11.2031 Q9.9062 9 15.0469 7.75 Q20.2031 6.5 24.9062 6.5 Q32.7969 6.5 37.6406 10.25 Q42.5 14 42.5 21.9062 Q42.5 28.9062 38.2031 32.6562 Q33.9062 36.4062 24.5938 36.4062 Q21.7969 36.4062 18.1875 35.9062 Q14.5938 35.4062 12.4062 34.9062 L8 37.7031 L10.7031 71.4062 L46.5 71.4062 L46.5 63.4062 L18.2031 63.4062 L16.5 42.7031 Q18.2031 43 21.0938 43.3906 Q24 43.7969 27.5 43.7969 Z\"/><glyph unicode=\"7\" horiz-adv-x=\"57.0\" d=\"M13.5938 0 L42.9062 63.4062 L4.4062 63.4062 L4.4062 71.4062 L52.2969 71.4062 L52.2969 64.5938 L23.2969 0 L13.5938 0 Z\"/><glyph unicode=\"9\" horiz-adv-x=\"57.0\" d=\"M52 40.9062 Q52 33.2031 50.6406 25.75 Q49.2969 18.2969 45.75 12.25 Q42.2031 6.2031 35.75 2.5938 Q29.2969 -1 19.2031 -1 Q17.2031 -1 14.5469 -0.75 Q11.9062 -0.5 10.2031 0 L10.2031 7.5 Q14.0938 6.2031 19 6.2031 Q26 6.2031 30.5469 8.5 Q35.0938 10.7969 37.7969 14.75 Q40.5 18.7031 41.7031 23.9531 Q42.9062 29.2031 43.0938 35 L42.5 35 Q40.2969 31.5938 36.1406 29.1406 Q32 26.7031 25.5 26.7031 Q16.2969 26.7031 10.6406 32.3438 Q5 38 5 48.2969 Q5 55.7969 7.8438 61.1875 Q10.7031 66.5938 15.7969 69.5 Q20.9062 72.4062 27.7969 72.4062 Q34.5938 72.4062 40.0938 68.9531 Q45.5938 65.5 48.7969 58.5469 Q52 51.5938 52 40.9062 ZM27.7969 65 Q21.5938 65 17.6406 60.8906 Q13.7031 56.7969 13.7031 48.4062 Q13.7031 41.5 17.0469 37.5469 Q20.4062 33.5938 27.4062 33.5938 Q32.2031 33.5938 35.7031 35.5469 Q39.2031 37.5 41.1406 40.5 Q43.0938 43.5 43.0938 46.7031 Q43.0938 51 41.3906 55.2031 Q39.7031 59.4062 36.2969 62.2031 Q32.9062 65 27.7969 65 Z\"/><glyph unicode=\".\" horiz-adv-x=\"27.0\" d=\"M7.2031 5.4062 Q7.2031 9.0938 9 10.5938 Q10.7969 12.0938 13.2969 12.0938 Q15.9062 12.0938 17.75 10.5938 Q19.5938 9.0938 19.5938 5.4062 Q19.5938 1.7969 17.75 0.1875 Q15.9062 -1.4062 13.2969 -1.4062 Q10.7969 -1.4062 9 0.1875 Q7.2031 1.7969 7.2031 5.4062 Z\"/></font></defs><g style=\"fill:white; text-rendering:optimizeLegibility; stroke:white;\"><rect x=\"0\" width=\"548\" height=\"336\" y=\"0\" style=\"stroke:none;\"/></g><g style=\"stroke-linecap:butt; fill:white; text-rendering:geometricPrecision; stroke-linejoin:bevel; shape-rendering:crispEdges; stroke:white; stroke-width:0;\"><path style=\"stroke:none;\" d=\"M479.5 42 L479.5 294 L68.5 42 Z\"/><path style=\"stroke:none;\" d=\"M479.5 294 L68.5 294 L68.5 42 Z\"/><path style=\"stroke:none;\" d=\"M479.5 42 L479.5 294 L479.5 294 Z\"/><path style=\"stroke:none;\" d=\"M68.5 42 L68.5 294 L68.5 294 Z\"/><path style=\"stroke:none;\" d=\"M479.5 42 L479.5 294 L68.5 42 Z\"/><path style=\"stroke:none;\" d=\"M479.5 294 L68.5 294 L68.5 42 Z\"/><path style=\"stroke:none;\" d=\"M479.5 42 L479.5 42 L479.5 294 Z\"/><path style=\"stroke:none;\" d=\"M68.5 42 L68.5 42 L68.5 294 Z\"/><path style=\"stroke:none;\" d=\"M479.5 42 L68.5 42 L479.5 42 Z\"/><path style=\"stroke:none;\" d=\"M68.5 42 L68.5 42 L479.5 42 Z\"/><path style=\"stroke:none;\" d=\"M479.5 294 L68.5 294 L479.5 294 Z\"/><path style=\"stroke:none;\" d=\"M68.5 294 L68.5 294 L479.5 294 Z\"/></g><g transform=\"translate(65,303)\" style=\"font-size:10px; stroke-linecap:butt; text-rendering:geometricPrecision; font-family:sans-serif; stroke-linejoin:bevel; stroke-width:0;\"><text x=\"-0.4844\" xml:space=\"preserve\" y=\"10.69\" style=\"stroke:none;\">0</text></g><g transform=\"translate(470,303)\" style=\"font-size:10px; stroke-linecap:butt; text-rendering:geometricPrecision; font-family:sans-serif; stroke-linejoin:bevel; stroke-width:0;\"><text x=\"-0.8906\" xml:space=\"preserve\" y=\"10.69\" style=\"stroke:none;\">100</text></g><g transform=\"translate(144.2,303)\" style=\"font-size:10px; stroke-linecap:butt; text-rendering:geometricPrecision; font-family:sans-serif; stroke-linejoin:bevel; stroke-width:0;\"><text x=\"-0.4844\" xml:space=\"preserve\" y=\"10.69\" style=\"stroke:none;\">20</text></g><g transform=\"translate(225.9,303)\" style=\"font-size:10px; stroke-linecap:butt; text-rendering:geometricPrecision; font-family:sans-serif; stroke-linejoin:bevel; stroke-width:0;\"><text x=\"-0.2031\" xml:space=\"preserve\" y=\"10.69\" style=\"stroke:none;\">40</text></g><g transform=\"translate(308.6,303)\" style=\"font-size:10px; stroke-linecap:butt; text-rendering:geometricPrecision; font-family:sans-serif; stroke-linejoin:bevel; stroke-width:0;\"><text x=\"-0.5469\" xml:space=\"preserve\" y=\"10.69\" style=\"stroke:none;\">60</text></g><g transform=\"translate(390.8,303)\" style=\"font-size:10px; stroke-linecap:butt; text-rendering:geometricPrecision; font-family:sans-serif; stroke-linejoin:bevel; stroke-width:0;\"><text x=\"-0.4844\" xml:space=\"preserve\" y=\"10.69\" style=\"stroke:none;\">80</text></g><g transform=\"translate(103.1,303)\" style=\"font-size:10px; stroke-linecap:butt; text-rendering:geometricPrecision; font-family:sans-serif; stroke-linejoin:bevel; stroke-width:0;\"><text x=\"-0.8906\" xml:space=\"preserve\" y=\"10.69\" style=\"stroke:none;\">10</text></g><g transform=\"translate(185.3,303)\" style=\"font-size:10px; stroke-linecap:butt; text-rendering:geometricPrecision; font-family:sans-serif; stroke-linejoin:bevel; stroke-width:0;\"><text x=\"-0.4531\" xml:space=\"preserve\" y=\"10.69\" style=\"stroke:none;\">30</text></g><g transform=\"translate(267.5,303)\" style=\"font-size:10px; stroke-linecap:butt; text-rendering:geometricPrecision; font-family:sans-serif; stroke-linejoin:bevel; stroke-width:0;\"><text x=\"-0.625\" xml:space=\"preserve\" y=\"10.69\" style=\"stroke:none;\">50</text></g><g transform=\"translate(349.7,303)\" style=\"font-size:10px; stroke-linecap:butt; text-rendering:geometricPrecision; font-family:sans-serif; stroke-linejoin:bevel; stroke-width:0;\"><text x=\"-0.4375\" xml:space=\"preserve\" y=\"10.69\" style=\"stroke:none;\">70</text></g><g transform=\"translate(431.9,303)\" style=\"font-size:10px; stroke-linecap:butt; text-rendering:geometricPrecision; font-family:sans-serif; stroke-linejoin:bevel; stroke-width:0;\"><text x=\"-0.5\" xml:space=\"preserve\" y=\"10.69\" style=\"stroke:none;\">90</text></g><g style=\"text-rendering:geometricPrecision; font-size:10px; shape-rendering:crispEdges; font-family:sans-serif; stroke-linecap:butt;\"><path style=\"fill:none;\" d=\"M68.5 294 L68.5 300\"/><path style=\"fill:none;\" d=\"M109.6 294 L109.6 300\"/><path style=\"fill:none;\" d=\"M150.7 294 L150.7 300\"/><path style=\"fill:none;\" d=\"M191.8 294 L191.8 300\"/><path style=\"fill:none;\" d=\"M232.9 294 L232.9 300\"/><path style=\"fill:none;\" d=\"M274 294 L274 300\"/><path style=\"fill:none;\" d=\"M315.1 294 L315.1 300\"/><path style=\"fill:none;\" d=\"M356.2 294 L356.2 300\"/><path style=\"fill:none;\" d=\"M397.3 294 L397.3 300\"/><path style=\"fill:none;\" d=\"M438.4 294 L438.4 300\"/><path style=\"fill:none;\" d=\"M479.5 294 L479.5 300\"/><path style=\"fill:none;\" d=\"M68.5 294 L68.5 297\"/><path style=\"fill:none;\" d=\"M89.05 294 L89.05 297\"/><path style=\"fill:none;\" d=\"M109.6 294 L109.6 297\"/><path style=\"fill:none;\" d=\"M130.15 294 L130.15 297\"/><path style=\"fill:none;\" d=\"M150.7 294 L150.7 297\"/><path style=\"fill:none;\" d=\"M171.25 294 L171.25 297\"/><path style=\"fill:none;\" d=\"M191.8 294 L191.8 297\"/><path style=\"fill:none;\" d=\"M212.35 294 L212.35 297\"/><path style=\"fill:none;\" d=\"M232.9 294 L232.9 297\"/><path style=\"fill:none;\" d=\"M253.45 294 L253.45 297\"/><path style=\"fill:none;\" d=\"M274 294 L274 297\"/><path style=\"fill:none;\" d=\"M294.55 294 L294.55 297\"/><path style=\"fill:none;\" d=\"M315.1 294 L315.1 297\"/><path style=\"fill:none;\" d=\"M335.65 294 L335.65 297\"/><path style=\"fill:none;\" d=\"M356.2 294 L356.2 297\"/><path style=\"fill:none;\" d=\"M376.75 294 L376.75 297\"/><path style=\"fill:none;\" d=\"M397.3 294 L397.3 297\"/><path style=\"fill:none;\" d=\"M417.85 294 L417.85 297\"/><path style=\"fill:none;\" d=\"M438.4 294 L438.4 297\"/><path style=\"fill:none;\" d=\"M458.95 294 L458.95 297\"/><path style=\"fill:none;\" d=\"M479.5 294 L479.5 297\"/><path style=\"fill:none;\" d=\"M479.5 294 L68.5 294\"/><text x=\"-0.4844\" y=\"10.69\" transform=\"translate(52.5,286.5)\" style=\"stroke-linejoin:bevel; shape-rendering:auto; stroke:none; stroke-width:0;\" xml:space=\"preserve\">0</text></g><g transform=\"translate(54.5,76.5)\" style=\"font-size:10px; stroke-linecap:butt; text-rendering:geometricPrecision; font-family:sans-serif; stroke-linejoin:bevel; stroke-width:0;\"><text x=\"-0.8906\" xml:space=\"preserve\" y=\"10.69\" style=\"stroke:none;\">1</text></g><g transform=\"translate(43.5,244.5)\" style=\"font-size:10px; stroke-linecap:butt; text-rendering:geometricPrecision; font-family:sans-serif; stroke-linejoin:bevel; stroke-width:0;\"><text x=\"-0.4844\" xml:space=\"preserve\" y=\"10.69\" style=\"stroke:none;\">0.2</text></g><g transform=\"translate(42.5,202.5)\" style=\"font-size:10px; stroke-linecap:butt; text-rendering:geometricPrecision; font-family:sans-serif; stroke-linejoin:bevel; stroke-width:0;\"><text x=\"-0.4844\" xml:space=\"preserve\" y=\"10.69\" style=\"stroke:none;\">0.4</text></g><g transform=\"translate(43.5,160.5)\" style=\"font-size:10px; stroke-linecap:butt; text-rendering:geometricPrecision; font-family:sans-serif; stroke-linejoin:bevel; stroke-width:0;\"><text x=\"-0.4844\" xml:space=\"preserve\" y=\"10.69\" style=\"stroke:none;\">0.6</text></g><g transform=\"translate(43.5,118.5)\" style=\"font-size:10px; stroke-linecap:butt; text-rendering:geometricPrecision; font-family:sans-serif; stroke-linejoin:bevel; stroke-width:0;\"><text x=\"-0.4844\" xml:space=\"preserve\" y=\"10.69\" style=\"stroke:none;\">0.8</text></g><g transform=\"translate(43.5,34.5)\" style=\"font-size:10px; stroke-linecap:butt; text-rendering:geometricPrecision; font-family:sans-serif; stroke-linejoin:bevel; stroke-width:0;\"><text x=\"-0.8906\" xml:space=\"preserve\" y=\"10.69\" style=\"stroke:none;\">1.2</text></g><g style=\"text-rendering:geometricPrecision; font-size:10px; shape-rendering:crispEdges; font-family:sans-serif; stroke-linecap:butt;\"><path style=\"fill:none;\" d=\"M68.5 294 L62.5 294\"/><path style=\"fill:none;\" d=\"M68.5 252 L62.5 252\"/><path style=\"fill:none;\" d=\"M68.5 210 L62.5 210\"/><path style=\"fill:none;\" d=\"M68.5 168 L62.5 168\"/><path style=\"fill:none;\" d=\"M68.5 126 L62.5 126\"/><path style=\"fill:none;\" d=\"M68.5 84 L62.5 84\"/><path style=\"fill:none;\" d=\"M68.5 42 L62.5 42\"/><path style=\"fill:none;\" d=\"M68.5 294 L65.5 294\"/><path style=\"fill:none;\" d=\"M68.5 273 L65.5 273\"/><path style=\"fill:none;\" d=\"M68.5 252 L65.5 252\"/><path style=\"fill:none;\" d=\"M68.5 231 L65.5 231\"/><path style=\"fill:none;\" d=\"M68.5 210 L65.5 210\"/><path style=\"fill:none;\" d=\"M68.5 189 L65.5 189\"/><path style=\"fill:none;\" d=\"M68.5 168 L65.5 168\"/><path style=\"fill:none;\" d=\"M68.5 147 L65.5 147\"/><path style=\"fill:none;\" d=\"M68.5 126 L65.5 126\"/><path style=\"fill:none;\" d=\"M68.5 105 L65.5 105\"/><path style=\"fill:none;\" d=\"M68.5 84 L65.5 84\"/><path style=\"fill:none;\" d=\"M68.5 63 L65.5 63\"/><path style=\"fill:none;\" d=\"M68.5 42 L65.5 42\"/><path style=\"fill:none;\" d=\"M68.5 42 L68.5 294\"/><path d=\"M72.61 294 L76.72 293.6472 L80.83 286.3009 L84.94 260.6803 L89.05 217.1513 L93.16 166.4628 L97.27 120.8576 L101.38 88.7167 L105.49 73.0698 L109.6 72.2415 L113.71 81.5008 L117.82 95.0013 L121.93 107.4867 L126.04 115.4134 L130.15 117.3671 L134.26 113.8519 L138.37 106.6631 L142.48 98.1056 L146.59 90.2875 L150.7 84.645 L154.81 81.7551 L158.92 81.4071 L163.03 82.8516 L167.14 85.1178 L171.25 87.3046 L175.36 88.7808 L179.47 89.2683 L183.58 88.8175 L187.69 87.7085 L191.8 86.3216 L195.91 85.0172 L200.02 84.0506 L204.13 83.5351 L208.24 83.4499 L212.35 83.6785 L216.46 84.0611 L220.57 84.4447 L224.68 84.7178 L228.79 84.8273 L232.9 84.776 L237.01 84.6073 L241.12 84.3838 L245.23 84.1668 L249.34 84.0015 L253.45 83.9099 L257.56 83.8907 L261.67 83.9263 L265.78 83.9904 L269.89 84.0571 L274 84.1069 L278.11 84.1297 L282.22 84.1252 L286.33 84.0998 L290.44 84.0639 L294.55 84.0278 L298.66 83.9996 L302.77 83.9833 L306.88 83.9792 L310.99 83.9846 L315.1 83.9952 L319.21 84.0067 L323.32 84.0157 L327.43 84.0203 L331.54 84.0202 L335.65 84.0164 L339.76 84.0106 L343.87 84.0047 L347.98 83.9998 L352.09 83.9969 L356.2 83.9961 L360.31 83.9969 L364.42 83.9986 L368.53 84.0006 L372.64 84.0022 L376.75 84.0031 L380.86 84.0032 L384.97 84.0026 L389.08 84.0017 L393.19 84.0007 L397.3 83.9999 L401.41 83.9994 L405.52 83.9992 L409.63 83.9993 L413.74 83.9996 L417.85 84 L421.96 84.0002 L426.07 84.0004 L430.18 84.0004 L434.29 84.0004 L438.4 84.0002 L442.51 84 L446.62 83.9999 L450.73 83.9998 L454.84 83.9998 L458.95 83.9998 L463.06 83.9998 L467.17 83.9999 L471.28 84 L475.39 84 L479.5 84\" style=\"fill:none; shape-rendering:geometricPrecision; clip-path:url(#clipPath1); stroke:blue;\"/><path style=\"fill:none;\" d=\"M68.5 294 L68.5 42 L68.5 42 L479.5 42 L479.5 294 L479.5 294 L68.5 294\"/><path style=\"fill:none;\" d=\"M479.5 42 L68.5 42\"/><path style=\"fill:none;\" d=\"M479.5 42 L479.5 294\"/><path style=\"fill:none;\" d=\"M479.5 42 L479.5 42\"/></g></g></svg>"
      ],
      "text/plain": [
       "<IPython.core.display.SVG object>"
      ]
     },
     "metadata": {},
     "output_type": "display_data"
    }
   ],
   "source": [
    "hd2 = [];\n",
    "// adk2 = eye(Ad2);\n",
    "// for k=1:100 \n",
    "//     hd2 = [hd2; C2*adk2*B2];\n",
    "//     adk2 = adk2 * Ad2;\n",
    "// end;\n",
    "v = zeros(Bd2);\n",
    "for k=1:100\n",
    "    hd2 = [hd2; Cd2 * v];\n",
    "    v = Ad2 * v + Bd2;\n",
    "end;\n",
    "plot(hd2)"
   ]
  },
  {
   "cell_type": "code",
   "execution_count": 11,
   "metadata": {},
   "outputs": [
    {
     "name": "stdout",
     "output_type": "stream",
     "text": [
      "\u001b[4l\u001b[0m\u001b[0m\u001b[4l\u001b[0m\u001b[0m\u001b[4l\u001b[0m\u001b[0m\u001b[4l\u001b[0m\u001b[0m\u001b[4l\u001b[0m\u001b[0m\u001b[4l\u001b[0m\u001b[0m\u001b[4l\u001b[0m\u001b[0m\u001b[4l\u001b[0m\u001b[0m\u001b[4l\u001b[0m\u001b[0m\u001b[4l\u001b[0m\u001b[0m\u001b[4l\u001b[0m\u001b[0m\u001b[4l\u001b[0m\u001b[0m\u001b[4l\u001b[0m\u001b[0m\u001b[4l\u001b[0m\u001b[0m\u001b[4l\u001b[0m\u001b[0m\u001b[4l\u001b[0m\u001b[0m\u001b[4l\u001b[0m\u001b[0m\u001b[4l\u001b[0m\u001b[0m\u001b[4l\u001b[0m\u001b[0m\u001b[4l\u001b[0m\u001b[0m\u001b[4l\u001b[0m\u001b[0m\u001b[4l\u001b[0m\u001b[0m\u001b[4l\u001b[0m\u001b[0m\u001b[4l\u001b[0m\u001b[0m\u001b[4l\u001b[0m\u001b[0m\u001b[4l\u001b[0m\u001b[0m\u001b[4l\u001b[0m\u001b[0m\u001b[4l\u001b[0m\u001b[0m\u001b[4l\u001b[0m\u001b[0m\u001b[4l\u001b[0m\u001b[0m\u001b[4l\u001b[0m\u001b[0m\u001b[4l\u001b[0m\u001b[0m\u001b[4l\u001b[0m\u001b[0m\u001b[4l\u001b[0m\u001b[0m\u001b[4l\u001b[0m\u001b[0m\u001b[4l\u001b[0m\u001b[0m\u001b[4l\u001b[0m\u001b[0m\u001b[4l\u001b[0m\u001b[0m\u001b[4l\u001b[0m\u001b[0m\u001b[4l\u001b[0m\u001b[0m\u001b[4l\u001b[0m\u001b[0m\u001b[4l\u001b[0m\u001b[0m\u001b[4l\u001b[0m\u001b[0m\u001b[4l\u001b[0m\u001b[0m\u001b[4l\u001b[0m\u001b[0m\u001b[4l\u001b[0m\u001b[0m\u001b[4l\u001b[0m\u001b[0m\u001b[4l\u001b[0m\u001b[0m\u001b[4l\u001b[0m\u001b[0m\u001b[4l\u001b[0m\u001b[0m\u001b[4l\u001b[0m\u001b[0m\u001b[4l\u001b[0m\u001b[0m\u001b[4l\u001b[0m\u001b[0m\u001b[4l\u001b[0m\u001b[0m\u001b[4l\u001b[0m\u001b[0m\u001b[4l\u001b[0m\u001b[0m\u001b[4l\u001b[0m\u001b[0m\u001b[4l\u001b[0m\u001b[0m\u001b[4l\u001b[0m\u001b[0m\u001b[4l\u001b[0m\u001b[0m\u001b[4l\u001b[0m\u001b[0m\u001b[4l\u001b[0m\u001b[0m\u001b[4l\u001b[0m\u001b[0m\u001b[4l\u001b[0m\u001b[0m\u001b[4l\u001b[0m\u001b[0m\u001b[4l\u001b[0m\u001b[0m\u001b[4l\u001b[0m\u001b[0m\u001b[4l\u001b[0m\u001b[0m\u001b[4l\u001b[0m\u001b[0m\u001b[4l\u001b[0m\u001b[0m\u001b[4l\u001b[0m\u001b[0m\u001b[4l\u001b[0m\u001b[0m\u001b[4l\u001b[0m\u001b[0m\u001b[4l\u001b[0m\u001b[0m\u001b[4l\u001b[0m\u001b[0m\u001b[4l\u001b[0m\u001b[0m\u001b[4l\u001b[0m\u001b[0m\u001b[4l\u001b[0m\u001b[0m\u001b[4l\u001b[0m\u001b[0m\u001b[4l\u001b[0m\u001b[0m\u001b[4l\u001b[0m\u001b[0m\u001b[4l\u001b[0m\u001b[0m\u001b[4l\u001b[0m\u001b[0m\u001b[4l\u001b[0m\u001b[0m\u001b[4l\u001b[0m\u001b[0m\u001b[4l\u001b[0m\u001b[0m\u001b[4l\u001b[0m\u001b[0m\u001b[4l\u001b[0m\u001b[0m\u001b[4l\u001b[0m\u001b[0m\u001b[4l\u001b[0m\u001b[0m\u001b[4l\u001b[0m\u001b[0m\u001b[4l\u001b[0m\u001b[0m\u001b[4l\u001b[0m\u001b[0m\u001b[4l\u001b[0m\u001b[0m\u001b[4l\u001b[0m\u001b[0m\u001b[4l\u001b[0m\u001b[0m\u001b[4l\u001b[0m\u001b[0m\u001b[4l\u001b[0m\u001b[0m\u001b[4l\u001b[0m\u001b[0m\u001b[4l\u001b[0m\u001b[0m\u001b[4l\u001b[0m\u001b[0m\u001b[4l\u001b[0m\u001b[0m\u001b[4l\u001b[0m\u001b[0m"
     ]
    },
    {
     "data": {
      "image/svg+xml": [
       "<svg xmlns:xlink=\"http://www.w3.org/1999/xlink\" xmlns=\"http://www.w3.org/2000/svg\" style=\"fill-opacity:1; color-rendering:auto; color-interpolation:auto; text-rendering:auto; stroke:black; stroke-linecap:square; stroke-miterlimit:10; shape-rendering:auto; stroke-opacity:1; fill:black; stroke-dasharray:none; font-weight:normal; stroke-width:1; font-family:'Dialog'; font-style:normal; stroke-linejoin:miter; font-size:12px; stroke-dashoffset:0; image-rendering:auto;\" width=\"548\" height=\"336\"><!--Generated by Scilab with Batik SVG Generator--><defs id=\"genericDefs\"/><g><defs id=\"defs1\"><clipPath clipPathUnits=\"userSpaceOnUse\" id=\"clipPath1\"><path d=\"M68.4959 41.9975 L479.5041 41.9975 L479.5041 294.0025 L68.4959 294.0025 L68.4959 41.9975 Z\" style=\"\"/></clipPath><font horiz-adv-x=\"60.0\" id=\"font1\"><font-face ascent=\"106.899895\" descent=\"29.299973\" units-per-em=\"100\" style=\"font-style:normal; font-family:sans-serif; font-weight:normal;\"/><missing-glyph horiz-adv-x=\"60.0\" d=\"M9.4062 0 L9.4062 71.4062 L50.5 71.4062 L50.5 0 L9.4062 0 ZM14.5 5.0938 L45.4062 5.0938 L45.4062 66.2969 L14.5 66.2969 L14.5 5.0938 Z\"/><glyph unicode=\"0\" horiz-adv-x=\"57.0\" d=\"M52.2969 35.7969 Q52.2969 24.2969 49.8906 16.0469 Q47.5 7.7969 42.2969 3.3906 Q37.0938 -1 28.5 -1 Q16.4062 -1 10.6562 8.75 Q4.9062 18.5 4.9062 35.7969 Q4.9062 47.4062 7.25 55.5938 Q9.5938 63.7969 14.7969 68.1406 Q20 72.5 28.5 72.5 Q40.5 72.5 46.3906 62.8438 Q52.2969 53.2031 52.2969 35.7969 ZM13.7031 35.7969 Q13.7031 21.0938 17.0469 13.7969 Q20.4062 6.5 28.5 6.5 Q36.5 6.5 39.9531 13.75 Q43.4062 21 43.4062 35.7969 Q43.4062 50.4062 39.9531 57.7031 Q36.5 65 28.5 65 Q20.4062 65 17.0469 57.7031 Q13.7031 50.4062 13.7031 35.7969 Z\"/><glyph unicode=\"1\" horiz-adv-x=\"57.0\" d=\"M35.5 0 L26.9062 0 L26.9062 49.9062 Q26.9062 54.2031 27 56.7969 Q27.0938 59.4062 27.2969 62.2031 Q25.7031 60.5938 24.3906 59.5 Q23.0938 58.4062 21.0938 56.7031 L13.5 50.5 L8.9062 56.4062 L28.2031 71.4062 L35.5 71.4062 L35.5 0 Z\"/><glyph unicode=\"2\" horiz-adv-x=\"57.0\" d=\"M52 0 L4.7969 0 L4.7969 7.2969 L23.5 26.2031 Q28.9062 31.5938 32.5938 35.7969 Q36.2969 40 38.1875 44.0469 Q40.0938 48.0938 40.0938 52.9062 Q40.0938 58.7969 36.5938 61.8438 Q33.0938 64.9062 27.5 64.9062 Q22.2969 64.9062 18.3438 63.0938 Q14.4062 61.2969 10.2969 58.0938 L5.5938 64 Q9.7969 67.5 15.25 69.9531 Q20.7031 72.4062 27.5 72.4062 Q37.5 72.4062 43.2969 67.3438 Q49.0938 62.2969 49.0938 53.4062 Q49.0938 47.7969 46.7969 42.8906 Q44.5 38 40.3906 33.25 Q36.2969 28.5 30.7969 23.0938 L15.9062 8.4062 L15.9062 8 L52 8 L52 0 Z\"/><glyph unicode=\"4\" horiz-adv-x=\"57.0\" d=\"M55.2031 16.2031 L44.7969 16.2031 L44.7969 0 L36.2969 0 L36.2969 16.2031 L2.0938 16.2031 L2.0938 23.7031 L35.7031 71.7969 L44.7969 71.7969 L44.7969 24.0938 L55.2031 24.0938 L55.2031 16.2031 ZM36.2969 46.5938 Q36.2969 51.7969 36.5 55.4375 Q36.7031 59.0938 36.7969 62.4062 L36.4062 62.4062 Q35.5938 60.5 34.3906 58.2969 Q33.2031 56.0938 32.0938 54.5938 L10.7031 24.0938 L36.2969 24.0938 L36.2969 46.5938 Z\"/><glyph unicode=\"6\" horiz-adv-x=\"57.0\" d=\"M5.5 30.5 Q5.5 38.2031 6.8438 45.6406 Q8.2031 53.0938 11.75 59.1406 Q15.2969 65.2031 21.6875 68.7969 Q28.0938 72.4062 38.2031 72.4062 Q40.2969 72.4062 42.8438 72.2031 Q45.4062 72 47 71.5 L47 64 Q45.2031 64.5938 42.9531 64.8906 Q40.7031 65.2031 38.4062 65.2031 Q31.5 65.2031 26.8906 62.8906 Q22.2969 60.5938 19.6406 56.5938 Q17 52.5938 15.7969 47.3906 Q14.5938 42.2031 14.2969 36.2969 L14.9062 36.2969 Q17.2031 39.7969 21.2969 42.25 Q25.4062 44.7031 31.7969 44.7031 Q41.0938 44.7031 46.7969 39.0469 Q52.5 33.4062 52.5 23 Q52.5 11.7969 46.3438 5.3906 Q40.2031 -1 29.7969 -1 Q23 -1 17.5 2.3906 Q12 5.7969 8.75 12.7969 Q5.5 19.7969 5.5 30.5 ZM29.7031 6.4062 Q36 6.4062 39.8906 10.4531 Q43.7969 14.5 43.7969 23 Q43.7969 29.7969 40.3438 33.7969 Q36.9062 37.7969 30 37.7969 Q25.2969 37.7969 21.7969 35.8438 Q18.2969 33.9062 16.3438 30.9062 Q14.4062 27.9062 14.4062 24.7031 Q14.4062 20.4062 16.0938 16.1562 Q17.7969 11.9062 21.1875 9.1562 Q24.5938 6.4062 29.7031 6.4062 Z\"/><glyph unicode=\"8\" horiz-adv-x=\"57.0\" d=\"M28.5 72.4062 Q37.9062 72.4062 43.9062 68 Q49.9062 63.5938 49.9062 55.2969 Q49.9062 51 48.0469 47.7969 Q46.2031 44.5938 43.0938 42.1406 Q40 39.7031 36.2969 37.7969 Q40.7031 35.7031 44.2969 33.0469 Q47.9062 30.4062 50.0469 26.9062 Q52.2031 23.4062 52.2031 18.5 Q52.2031 9.5 45.8438 4.25 Q39.5 -1 28.7969 -1 Q17.2969 -1 11.0938 4.0469 Q4.9062 9.0938 4.9062 18.2031 Q4.9062 23.0938 6.9531 26.6875 Q9 30.2969 12.3906 32.8906 Q15.7969 35.5 19.7031 37.2969 Q14.5 40.2969 10.8438 44.5469 Q7.2031 48.7969 7.2031 55.4062 Q7.2031 60.9062 10 64.6562 Q12.7969 68.4062 17.5938 70.4062 Q22.4062 72.4062 28.5 72.4062 ZM28.4062 65.2969 Q22.9062 65.2969 19.3438 62.6406 Q15.7969 60 15.7969 55 Q15.7969 51.2969 17.5469 48.7969 Q19.2969 46.2969 22.2969 44.5469 Q25.2969 42.7969 28.9062 41.2031 Q34.0938 43.4062 37.6406 46.5 Q41.2031 49.5938 41.2031 55 Q41.2031 60 37.7031 62.6406 Q34.2031 65.2969 28.4062 65.2969 ZM13.5 18.0938 Q13.5 12.9062 17.2031 9.4531 Q20.9062 6 28.5938 6 Q35.9062 6 39.75 9.4531 Q43.5938 12.9062 43.5938 18.4062 Q43.5938 23.5938 39.5 27.0469 Q35.4062 30.5 28.5938 33.0938 L27 33.7031 Q20.4062 30.9062 16.9531 27.25 Q13.5 23.5938 13.5 18.0938 Z\"/><glyph unicode=\"3\" horiz-adv-x=\"57.0\" d=\"M49.2969 54.7031 Q49.2969 47.5 45.2969 43.25 Q41.2969 39 34.5 37.5938 L34.5 37.2031 Q43.0938 36.2031 47.2969 31.7969 Q51.5 27.4062 51.5 20.2969 Q51.5 14.0938 48.5938 9.25 Q45.7031 4.4062 39.6406 1.7031 Q33.5938 -1 24.0938 -1 Q18.5 -1 13.7031 -0.1406 Q8.9062 0.7031 4.5 2.9062 L4.5 11.0938 Q9 8.9062 14.2031 7.6562 Q19.4062 6.4062 24.2031 6.4062 Q33.7969 6.4062 38.0469 10.1562 Q42.2969 13.9062 42.2969 20.5 Q42.2969 27.2031 37.0469 30.1406 Q31.7969 33.0938 22.2969 33.0938 L15.4062 33.0938 L15.4062 40.5938 L22.4062 40.5938 Q31.2031 40.5938 35.75 44.2969 Q40.2969 48 40.2969 54.0938 Q40.2969 59.2969 36.7969 62.1406 Q33.2969 65 27.2969 65 Q21.5 65 17.3906 63.2969 Q13.2969 61.5938 9.2969 59 L4.9062 65 Q8.7031 68 14.3438 70.2031 Q20 72.4062 27.2031 72.4062 Q38.4062 72.4062 43.8438 67.4062 Q49.2969 62.4062 49.2969 54.7031 Z\"/><glyph unicode=\"5\" horiz-adv-x=\"57.0\" d=\"M27.5 43.7969 Q38.5 43.7969 45 38.2969 Q51.5 32.7969 51.5 22.7969 Q51.5 11.7031 44.4531 5.3438 Q37.4062 -1 24.7969 -1 Q19.2969 -1 14.4375 0 Q9.5938 1 6.2969 2.9062 L6.2969 11.2031 Q9.9062 9 15.0469 7.75 Q20.2031 6.5 24.9062 6.5 Q32.7969 6.5 37.6406 10.25 Q42.5 14 42.5 21.9062 Q42.5 28.9062 38.2031 32.6562 Q33.9062 36.4062 24.5938 36.4062 Q21.7969 36.4062 18.1875 35.9062 Q14.5938 35.4062 12.4062 34.9062 L8 37.7031 L10.7031 71.4062 L46.5 71.4062 L46.5 63.4062 L18.2031 63.4062 L16.5 42.7031 Q18.2031 43 21.0938 43.3906 Q24 43.7969 27.5 43.7969 Z\"/><glyph unicode=\"7\" horiz-adv-x=\"57.0\" d=\"M13.5938 0 L42.9062 63.4062 L4.4062 63.4062 L4.4062 71.4062 L52.2969 71.4062 L52.2969 64.5938 L23.2969 0 L13.5938 0 Z\"/><glyph unicode=\"9\" horiz-adv-x=\"57.0\" d=\"M52 40.9062 Q52 33.2031 50.6406 25.75 Q49.2969 18.2969 45.75 12.25 Q42.2031 6.2031 35.75 2.5938 Q29.2969 -1 19.2031 -1 Q17.2031 -1 14.5469 -0.75 Q11.9062 -0.5 10.2031 0 L10.2031 7.5 Q14.0938 6.2031 19 6.2031 Q26 6.2031 30.5469 8.5 Q35.0938 10.7969 37.7969 14.75 Q40.5 18.7031 41.7031 23.9531 Q42.9062 29.2031 43.0938 35 L42.5 35 Q40.2969 31.5938 36.1406 29.1406 Q32 26.7031 25.5 26.7031 Q16.2969 26.7031 10.6406 32.3438 Q5 38 5 48.2969 Q5 55.7969 7.8438 61.1875 Q10.7031 66.5938 15.7969 69.5 Q20.9062 72.4062 27.7969 72.4062 Q34.5938 72.4062 40.0938 68.9531 Q45.5938 65.5 48.7969 58.5469 Q52 51.5938 52 40.9062 ZM27.7969 65 Q21.5938 65 17.6406 60.8906 Q13.7031 56.7969 13.7031 48.4062 Q13.7031 41.5 17.0469 37.5469 Q20.4062 33.5938 27.4062 33.5938 Q32.2031 33.5938 35.7031 35.5469 Q39.2031 37.5 41.1406 40.5 Q43.0938 43.5 43.0938 46.7031 Q43.0938 51 41.3906 55.2031 Q39.7031 59.4062 36.2969 62.2031 Q32.9062 65 27.7969 65 Z\"/><glyph unicode=\".\" horiz-adv-x=\"27.0\" d=\"M7.2031 5.4062 Q7.2031 9.0938 9 10.5938 Q10.7969 12.0938 13.2969 12.0938 Q15.9062 12.0938 17.75 10.5938 Q19.5938 9.0938 19.5938 5.4062 Q19.5938 1.7969 17.75 0.1875 Q15.9062 -1.4062 13.2969 -1.4062 Q10.7969 -1.4062 9 0.1875 Q7.2031 1.7969 7.2031 5.4062 Z\"/><glyph unicode=\"-\" horiz-adv-x=\"32.0\" d=\"M4 22.9062 L4 30.7031 L28.2031 30.7031 L28.2031 22.9062 L4 22.9062 Z\"/></font></defs><g style=\"fill:white; text-rendering:optimizeLegibility; stroke:white;\"><rect x=\"0\" width=\"548\" height=\"336\" y=\"0\" style=\"stroke:none;\"/></g><g style=\"stroke-linecap:butt; fill:white; text-rendering:geometricPrecision; stroke-linejoin:bevel; shape-rendering:crispEdges; stroke:white; stroke-width:0;\"><path style=\"stroke:none;\" d=\"M479.5 42 L479.5 294 L68.5 42 Z\"/><path style=\"stroke:none;\" d=\"M479.5 294 L68.5 294 L68.5 42 Z\"/><path style=\"stroke:none;\" d=\"M479.5 42 L479.5 294 L479.5 294 Z\"/><path style=\"stroke:none;\" d=\"M68.5 42 L68.5 294 L68.5 294 Z\"/><path style=\"stroke:none;\" d=\"M479.5 42 L479.5 294 L68.5 42 Z\"/><path style=\"stroke:none;\" d=\"M479.5 294 L68.5 294 L68.5 42 Z\"/><path style=\"stroke:none;\" d=\"M479.5 42 L479.5 42 L479.5 294 Z\"/><path style=\"stroke:none;\" d=\"M68.5 42 L68.5 42 L68.5 294 Z\"/><path style=\"stroke:none;\" d=\"M479.5 42 L68.5 42 L479.5 42 Z\"/><path style=\"stroke:none;\" d=\"M68.5 42 L68.5 42 L479.5 42 Z\"/><path style=\"stroke:none;\" d=\"M479.5 294 L68.5 294 L479.5 294 Z\"/><path style=\"stroke:none;\" d=\"M68.5 294 L68.5 294 L479.5 294 Z\"/></g><g transform=\"translate(65,303)\" style=\"font-size:10px; stroke-linecap:butt; text-rendering:geometricPrecision; font-family:sans-serif; stroke-linejoin:bevel; stroke-width:0;\"><text x=\"-0.4844\" xml:space=\"preserve\" y=\"10.69\" style=\"stroke:none;\">0</text></g><g transform=\"translate(470,303)\" style=\"font-size:10px; stroke-linecap:butt; text-rendering:geometricPrecision; font-family:sans-serif; stroke-linejoin:bevel; stroke-width:0;\"><text x=\"-0.8906\" xml:space=\"preserve\" y=\"10.69\" style=\"stroke:none;\">100</text></g><g transform=\"translate(144.2,303)\" style=\"font-size:10px; stroke-linecap:butt; text-rendering:geometricPrecision; font-family:sans-serif; stroke-linejoin:bevel; stroke-width:0;\"><text x=\"-0.4844\" xml:space=\"preserve\" y=\"10.69\" style=\"stroke:none;\">20</text></g><g transform=\"translate(225.9,303)\" style=\"font-size:10px; stroke-linecap:butt; text-rendering:geometricPrecision; font-family:sans-serif; stroke-linejoin:bevel; stroke-width:0;\"><text x=\"-0.2031\" xml:space=\"preserve\" y=\"10.69\" style=\"stroke:none;\">40</text></g><g transform=\"translate(308.6,303)\" style=\"font-size:10px; stroke-linecap:butt; text-rendering:geometricPrecision; font-family:sans-serif; stroke-linejoin:bevel; stroke-width:0;\"><text x=\"-0.5469\" xml:space=\"preserve\" y=\"10.69\" style=\"stroke:none;\">60</text></g><g transform=\"translate(390.8,303)\" style=\"font-size:10px; stroke-linecap:butt; text-rendering:geometricPrecision; font-family:sans-serif; stroke-linejoin:bevel; stroke-width:0;\"><text x=\"-0.4844\" xml:space=\"preserve\" y=\"10.69\" style=\"stroke:none;\">80</text></g><g transform=\"translate(103.1,303)\" style=\"font-size:10px; stroke-linecap:butt; text-rendering:geometricPrecision; font-family:sans-serif; stroke-linejoin:bevel; stroke-width:0;\"><text x=\"-0.8906\" xml:space=\"preserve\" y=\"10.69\" style=\"stroke:none;\">10</text></g><g transform=\"translate(185.3,303)\" style=\"font-size:10px; stroke-linecap:butt; text-rendering:geometricPrecision; font-family:sans-serif; stroke-linejoin:bevel; stroke-width:0;\"><text x=\"-0.4531\" xml:space=\"preserve\" y=\"10.69\" style=\"stroke:none;\">30</text></g><g transform=\"translate(267.5,303)\" style=\"font-size:10px; stroke-linecap:butt; text-rendering:geometricPrecision; font-family:sans-serif; stroke-linejoin:bevel; stroke-width:0;\"><text x=\"-0.625\" xml:space=\"preserve\" y=\"10.69\" style=\"stroke:none;\">50</text></g><g transform=\"translate(349.7,303)\" style=\"font-size:10px; stroke-linecap:butt; text-rendering:geometricPrecision; font-family:sans-serif; stroke-linejoin:bevel; stroke-width:0;\"><text x=\"-0.4375\" xml:space=\"preserve\" y=\"10.69\" style=\"stroke:none;\">70</text></g><g transform=\"translate(431.9,303)\" style=\"font-size:10px; stroke-linecap:butt; text-rendering:geometricPrecision; font-family:sans-serif; stroke-linejoin:bevel; stroke-width:0;\"><text x=\"-0.5\" xml:space=\"preserve\" y=\"10.69\" style=\"stroke:none;\">90</text></g><g style=\"text-rendering:geometricPrecision; font-size:10px; shape-rendering:crispEdges; font-family:sans-serif; stroke-linecap:butt;\"><path style=\"fill:none;\" d=\"M68.5 294 L68.5 300\"/><path style=\"fill:none;\" d=\"M109.6 294 L109.6 300\"/><path style=\"fill:none;\" d=\"M150.7 294 L150.7 300\"/><path style=\"fill:none;\" d=\"M191.8 294 L191.8 300\"/><path style=\"fill:none;\" d=\"M232.9 294 L232.9 300\"/><path style=\"fill:none;\" d=\"M274 294 L274 300\"/><path style=\"fill:none;\" d=\"M315.1 294 L315.1 300\"/><path style=\"fill:none;\" d=\"M356.2 294 L356.2 300\"/><path style=\"fill:none;\" d=\"M397.3 294 L397.3 300\"/><path style=\"fill:none;\" d=\"M438.4 294 L438.4 300\"/><path style=\"fill:none;\" d=\"M479.5 294 L479.5 300\"/><path style=\"fill:none;\" d=\"M68.5 294 L68.5 297\"/><path style=\"fill:none;\" d=\"M89.05 294 L89.05 297\"/><path style=\"fill:none;\" d=\"M109.6 294 L109.6 297\"/><path style=\"fill:none;\" d=\"M130.15 294 L130.15 297\"/><path style=\"fill:none;\" d=\"M150.7 294 L150.7 297\"/><path style=\"fill:none;\" d=\"M171.25 294 L171.25 297\"/><path style=\"fill:none;\" d=\"M191.8 294 L191.8 297\"/><path style=\"fill:none;\" d=\"M212.35 294 L212.35 297\"/><path style=\"fill:none;\" d=\"M232.9 294 L232.9 297\"/><path style=\"fill:none;\" d=\"M253.45 294 L253.45 297\"/><path style=\"fill:none;\" d=\"M274 294 L274 297\"/><path style=\"fill:none;\" d=\"M294.55 294 L294.55 297\"/><path style=\"fill:none;\" d=\"M315.1 294 L315.1 297\"/><path style=\"fill:none;\" d=\"M335.65 294 L335.65 297\"/><path style=\"fill:none;\" d=\"M356.2 294 L356.2 297\"/><path style=\"fill:none;\" d=\"M376.75 294 L376.75 297\"/><path style=\"fill:none;\" d=\"M397.3 294 L397.3 297\"/><path style=\"fill:none;\" d=\"M417.85 294 L417.85 297\"/><path style=\"fill:none;\" d=\"M438.4 294 L438.4 297\"/><path style=\"fill:none;\" d=\"M458.95 294 L458.95 297\"/><path style=\"fill:none;\" d=\"M479.5 294 L479.5 297\"/><path style=\"fill:none;\" d=\"M479.5 294 L68.5 294\"/><text x=\"-0.4844\" y=\"10.69\" transform=\"translate(52.5,250.5)\" style=\"stroke-linejoin:bevel; shape-rendering:auto; stroke:none; stroke-width:0;\" xml:space=\"preserve\">0</text></g><g transform=\"translate(54.5,70.5)\" style=\"font-size:10px; stroke-linecap:butt; text-rendering:geometricPrecision; font-family:sans-serif; stroke-linejoin:bevel; stroke-width:0;\"><text x=\"-0.8906\" xml:space=\"preserve\" y=\"10.69\" style=\"stroke:none;\">1</text></g><g transform=\"translate(40.5,286.5)\" style=\"font-size:10px; stroke-linecap:butt; text-rendering:geometricPrecision; font-family:sans-serif; stroke-linejoin:bevel; stroke-width:0;\"><text x=\"-0.4062\" xml:space=\"preserve\" y=\"10.69\" style=\"stroke:none;\">-0.2</text></g><g transform=\"translate(43.5,214.5)\" style=\"font-size:10px; stroke-linecap:butt; text-rendering:geometricPrecision; font-family:sans-serif; stroke-linejoin:bevel; stroke-width:0;\"><text x=\"-0.4844\" xml:space=\"preserve\" y=\"10.69\" style=\"stroke:none;\">0.2</text></g><g transform=\"translate(42.5,178.5)\" style=\"font-size:10px; stroke-linecap:butt; text-rendering:geometricPrecision; font-family:sans-serif; stroke-linejoin:bevel; stroke-width:0;\"><text x=\"-0.4844\" xml:space=\"preserve\" y=\"10.69\" style=\"stroke:none;\">0.4</text></g><g transform=\"translate(43.5,142.5)\" style=\"font-size:10px; stroke-linecap:butt; text-rendering:geometricPrecision; font-family:sans-serif; stroke-linejoin:bevel; stroke-width:0;\"><text x=\"-0.4844\" xml:space=\"preserve\" y=\"10.69\" style=\"stroke:none;\">0.6</text></g><g transform=\"translate(43.5,106.5)\" style=\"font-size:10px; stroke-linecap:butt; text-rendering:geometricPrecision; font-family:sans-serif; stroke-linejoin:bevel; stroke-width:0;\"><text x=\"-0.4844\" xml:space=\"preserve\" y=\"10.69\" style=\"stroke:none;\">0.8</text></g><g transform=\"translate(43.5,34.5)\" style=\"font-size:10px; stroke-linecap:butt; text-rendering:geometricPrecision; font-family:sans-serif; stroke-linejoin:bevel; stroke-width:0;\"><text x=\"-0.8906\" xml:space=\"preserve\" y=\"10.69\" style=\"stroke:none;\">1.2</text></g><g style=\"text-rendering:geometricPrecision; font-size:10px; shape-rendering:crispEdges; font-family:sans-serif; stroke-linecap:butt;\"><path style=\"fill:none;\" d=\"M68.5 294 L62.5 294\"/><path style=\"fill:none;\" d=\"M68.5 258 L62.5 258\"/><path style=\"fill:none;\" d=\"M68.5 222 L62.5 222\"/><path style=\"fill:none;\" d=\"M68.5 186 L62.5 186\"/><path style=\"fill:none;\" d=\"M68.5 150 L62.5 150\"/><path style=\"fill:none;\" d=\"M68.5 114 L62.5 114\"/><path style=\"fill:none;\" d=\"M68.5 78 L62.5 78\"/><path style=\"fill:none;\" d=\"M68.5 42 L62.5 42\"/><path style=\"fill:none;\" d=\"M68.5 294 L65.5 294\"/><path style=\"fill:none;\" d=\"M68.5 276 L65.5 276\"/><path style=\"fill:none;\" d=\"M68.5 258 L65.5 258\"/><path style=\"fill:none;\" d=\"M68.5 240 L65.5 240\"/><path style=\"fill:none;\" d=\"M68.5 222 L65.5 222\"/><path style=\"fill:none;\" d=\"M68.5 204 L65.5 204\"/><path style=\"fill:none;\" d=\"M68.5 186 L65.5 186\"/><path style=\"fill:none;\" d=\"M68.5 168 L65.5 168\"/><path style=\"fill:none;\" d=\"M68.5 150 L65.5 150\"/><path style=\"fill:none;\" d=\"M68.5 132 L65.5 132\"/><path style=\"fill:none;\" d=\"M68.5 114 L65.5 114\"/><path style=\"fill:none;\" d=\"M68.5 96 L65.5 96\"/><path style=\"fill:none;\" d=\"M68.5 78 L65.5 78\"/><path style=\"fill:none;\" d=\"M68.5 60 L65.5 60\"/><path style=\"fill:none;\" d=\"M68.5 42 L65.5 42\"/><path style=\"fill:none;\" d=\"M68.5 42 L68.5 294\"/><path d=\"M72.61 258 L76.72 257.6223 L80.83 250.197 L84.94 223.152 L89.05 179.232 L93.16 129.552 L97.27 86.874 L101.38 59.64 L105.49 50.28 L109.6 55.86 L113.71 70.62 L117.82 87.882 L121.93 102.012 L126.04 109.302 L130.15 109.068 L134.26 102.696 L138.37 92.922 L142.48 82.77 L146.59 74.76 L150.7 70.26 L154.81 69.54 L158.92 71.7 L163.03 75.48 L167.14 79.494 L171.25 82.464 L175.36 83.814 L179.47 83.562 L183.58 82.068 L187.69 80.016 L191.8 78 L195.91 76.56 L200.02 75.84 L204.13 76.02 L208.24 76.56 L212.35 77.46 L216.46 78.378 L220.57 78.954 L224.68 79.17 L228.79 79.026 L232.9 78.648 L237.01 78.216 L241.12 77.82 L245.23 77.64 L249.34 77.46 L253.45 77.64 L257.56 77.82 L261.67 78 L265.78 78.144 L269.89 78.234 L274 78.252 L278.11 78.18 L282.22 78.09 L286.33 78 L290.44 78 L294.55 77.82 L298.66 77.82 L302.77 78 L306.88 78 L310.99 78.018 L315.1 78.054 L319.21 78.054 L323.32 78.054 L327.43 78.018 L331.54 78 L335.65 78 L339.76 78 L343.87 78 L347.98 78 L352.09 78 L356.2 78 L360.31 78.018 L364.42 78.018 L368.53 78 L372.64 78 L376.75 78 L380.86 78 L384.97 78 L389.08 78 L393.19 78 L397.3 78.036 L401.41 78.054 L405.52 78.054 L409.63 78.054 L413.74 78.054 L417.85 78.036 L421.96 78.036 L426.07 78.018 L430.18 78.018 L434.29 78.018 L438.4 78.036 L442.51 78.036 L446.62 78.036 L450.73 78.036 L454.84 78.036 L458.95 78.036 L463.06 78.036 L467.17 78.018 L471.28 78.018 L475.39 78 L479.5 78\" style=\"fill:none; shape-rendering:geometricPrecision; clip-path:url(#clipPath1); stroke:blue;\"/><path style=\"fill:none;\" d=\"M68.5 294 L68.5 42 L68.5 42 L479.5 42 L479.5 294 L479.5 294 L68.5 294\"/><path style=\"fill:none;\" d=\"M479.5 42 L68.5 42\"/><path style=\"fill:none;\" d=\"M479.5 42 L479.5 294\"/><path style=\"fill:none;\" d=\"M479.5 42 L479.5 42\"/></g></g></svg>"
      ],
      "text/plain": [
       "<IPython.core.display.SVG object>"
      ]
     },
     "metadata": {},
     "output_type": "display_data"
    }
   ],
   "source": [
    "hh = [\n",
    "  -4.106E-10\n",
    "   2.098E-03\n",
    "   4.335E-02\n",
    "   1.936E-01\n",
    "   4.376E-01\n",
    "   7.136E-01\n",
    "   9.507E-01\n",
    "   1.102E+00\n",
    "   1.154E+00\n",
    "   1.123E+00\n",
    "   1.041E+00\n",
    "   9.451E-01\n",
    "   8.666E-01\n",
    "   8.261E-01\n",
    "   8.274E-01\n",
    "   8.628E-01\n",
    "   9.171E-01\n",
    "   9.735E-01\n",
    "   1.018E+00\n",
    "   1.043E+00\n",
    "   1.047E+00\n",
    "   1.035E+00\n",
    "   1.014E+00\n",
    "   9.917E-01\n",
    "   9.752E-01\n",
    "   9.677E-01\n",
    "   9.691E-01\n",
    "   9.774E-01\n",
    "   9.888E-01\n",
    "   1.000E+00\n",
    "   1.008E+00\n",
    "   1.012E+00\n",
    "   1.011E+00\n",
    "   1.008E+00\n",
    "   1.003E+00\n",
    "   9.979E-01\n",
    "   9.947E-01\n",
    "   9.935E-01\n",
    "   9.943E-01\n",
    "   9.964E-01\n",
    "   9.988E-01\n",
    "   1.001E+00\n",
    "   1.002E+00\n",
    "   1.003E+00\n",
    "   1.002E+00\n",
    "   1.001E+00\n",
    "   1.000E+00\n",
    "   9.992E-01\n",
    "   9.987E-01\n",
    "   9.986E-01\n",
    "   9.990E-01\n",
    "   9.995E-01\n",
    "   1.000E+00\n",
    "   1.000E+00\n",
    "   1.001E+00\n",
    "   1.001E+00\n",
    "   1.000E+00\n",
    "   1.000E+00\n",
    "   9.999E-01\n",
    "   9.997E-01\n",
    "   9.997E-01\n",
    "   9.997E-01\n",
    "   9.999E-01\n",
    "   1.000E+00\n",
    "   1.000E+00\n",
    "   1.000E+00\n",
    "   1.000E+00\n",
    "   1.000E+00\n",
    "   1.000E+00\n",
    "   1.000E+00\n",
    "   9.999E-01\n",
    "   9.999E-01\n",
    "   1.000E+00\n",
    "   1.000E+00\n",
    "   1.000E+00\n",
    "   1.000E+00\n",
    "   1.000E+00\n",
    "   1.000E+00\n",
    "   1.000E+00\n",
    "   9.998E-01\n",
    "   9.997E-01\n",
    "   9.997E-01\n",
    "   9.997E-01\n",
    "   9.997E-01\n",
    "   9.998E-01\n",
    "   9.998E-01\n",
    "   9.999E-01\n",
    "   9.999E-01\n",
    "   9.999E-01\n",
    "   9.998E-01\n",
    "   9.998E-01\n",
    "   9.998E-01\n",
    "   9.998E-01\n",
    "   9.998E-01\n",
    "   9.998E-01\n",
    "   9.998E-01\n",
    "   9.999E-01\n",
    "   9.999E-01\n",
    "   1.000E+00\n",
    "   1.000E+00\n",
    "];\n",
    "plot(hh)\n"
   ]
  },
  {
   "cell_type": "code",
   "execution_count": 16,
   "metadata": {},
   "outputs": [
    {
     "name": "stdout",
     "output_type": "stream",
     "text": [
      "\u001b[4l\u001b[0m ans  =\n",
      "   0.          1.          2.       \n",
      "  -4.106D-10   0.          0.       \n",
      "   0.002098    0.0016802   0.0016802\n",
      "   0.04335     0.0366623   0.0366623\n",
      "   0.1936      0.1586653   0.1586653\n",
      "   0.4376      0.3659462   0.3659462\n",
      "   0.7136      0.6073198   0.6073198\n",
      "   0.9507      0.8244874   0.8244874\n",
      "   1.102       0.9775395   0.9775395\n",
      "   1.154       1.0520487   1.0520487\n",
      "   1.123       1.0559927   1.0559927\n",
      "   1.041       1.0119011   1.0119011\n",
      "   0.9451      0.9476128   0.9476128\n",
      "   0.8666      0.8881584   0.8881584\n",
      "   0.8261      0.8504124   0.8504124\n",
      "   0.8274      0.8411091   0.8411091\n",
      "   0.8628      0.8578483   0.8578483\n",
      "   0.9171      0.8920803   0.8920803\n",
      "   0.9735      0.9328306   0.9328306\n",
      "   1.018       0.9700598   0.9700598\n",
      "   1.043       0.9969284   0.9969284\n",
      "   1.047       1.0106902   1.0106902\n",
      "   1.035       1.0123472   1.0123472\n",
      "   1.014       1.0054683   1.0054683\n",
      "   0.9917      0.9946771   0.9946771\n",
      "   0.9752      0.984264    0.984264 \n",
      "   0.9677      0.9772344   0.9772344\n",
      "   0.9691      0.9749126   0.9749126\n",
      "   0.9774      0.9770594   0.9770594\n",
      "   0.9888      0.9823407   0.9823407\n",
      "   1.          0.9889447   0.9889447\n",
      "   1.008       0.995156    0.995156 \n",
      "   1.012       0.9997592   0.9997592\n",
      "   1.011       1.0022138   1.0022138\n",
      "   1.008       1.0026195   1.0026195\n",
      "   1.003       1.001531    1.001531 \n",
      "   0.9979      0.9997088   0.9997088\n",
      "   0.9947      0.9978826   0.9978826\n",
      "   0.9935      0.9965821   0.9965821\n",
      "   0.9943      0.9960605   0.9960605\n",
      "   0.9964      0.9963047   0.9963047\n",
      "   0.9988      0.9971081   0.9971081\n",
      "   1.001       0.9981726   0.9981726\n",
      "   1.002       0.9992058   0.9992058\n",
      "   1.003       0.9999927   0.9999927\n",
      "   1.002       1.0004293   1.0004293\n",
      "   1.001       1.0005203   1.0005203\n",
      "   1.          1.000351    1.000351 \n",
      "   0.9992      1.0000457   1.0000457\n",
      "   0.9987      0.9997281   0.9997281\n",
      "   0.9986      0.9994911   0.9994911\n",
      "   0.999       0.9993822   0.9993822\n",
      "   0.9995      0.999404    0.999404 \n",
      "   1.          0.9995248   0.9995248\n",
      "   1.          0.9996959   0.9996959\n",
      "   1.001       0.9998675   0.9998675\n",
      "   1.001       1.000002    1.000002 \n",
      "   1.          1.0000796   1.0000796\n",
      "   1.          1.0000991   1.0000991\n",
      "   0.9999      1.0000734   1.0000734\n",
      "   0.9997      1.0000227   1.0000227\n",
      "   0.9997      0.9999679   0.9999679\n",
      "   0.9997      0.9999252   0.9999252\n",
      "   0.9999      0.9999035   0.9999035\n",
      "   1.          0.999904    0.999904 \n",
      "   1.          0.9999219   0.9999219\n",
      "   1.          0.9999493   0.9999493\n",
      "   1.          0.9999778   0.9999778\n",
      "   1.          1.0000008   1.0000008\n",
      "   1.          1.0000146   1.0000146\n",
      "   1.          1.0000186   1.0000186\n",
      "   0.9999      1.0000148   1.0000148\n",
      "   0.9999      1.0000065   1.0000065\n",
      "   1.          0.9999971   0.9999971\n",
      "   1.          0.9999895   0.9999895\n",
      "   1.          0.9999853   0.9999853\n",
      "   1.          0.9999849   0.9999849\n",
      "   1.          0.9999875   0.9999875\n",
      "   1.          0.9999918   0.9999918\n",
      "   1.          0.9999966   0.9999966\n",
      "   0.9998      1.0000005   1.0000005\n",
      "   0.9997      1.0000029   1.0000029\n",
      "   0.9997      1.0000037   1.0000037\n",
      "   0.9997      1.0000032   1.0000032\n",
      "   0.9997      1.0000018   1.0000018\n",
      "   0.9998      1.0000002   1.0000002\n",
      "   0.9998      0.9999989   0.9999989\n",
      "   0.9999      0.9999981   0.9999981\n",
      "   0.9999      0.9999979   0.9999979\n",
      "   0.9999      0.9999983   0.9999983\n",
      "   0.9998      0.999999    0.999999 \n",
      "   0.9998      0.9999998   0.9999998\n",
      "   0.9998      1.0000004   1.0000004\n",
      "   0.9998      1.0000009   1.0000009\n",
      "   0.9998      1.000001    1.000001 \n",
      "   0.9998      1.000001    1.000001 \n",
      "   0.9998      1.0000007   1.0000007\n",
      "   0.9999      1.0000005   1.0000005\n",
      "   0.9999      1.0000002   1.0000002\n",
      "   1.          1.0000001   1.0000001\n",
      "   1.          1.0000001   1.0000001\n",
      "\u001b[0m\u001b[4l\u001b[0m\u001b[0m\u001b[4l\u001b[0m\u001b[0m\u001b[4l\u001b[0m\u001b[0m"
     ]
    },
    {
     "data": {
      "image/svg+xml": [
       "<svg xmlns:xlink=\"http://www.w3.org/1999/xlink\" xmlns=\"http://www.w3.org/2000/svg\" style=\"fill-opacity:1; color-rendering:auto; color-interpolation:auto; text-rendering:auto; stroke:black; stroke-linecap:square; stroke-miterlimit:10; shape-rendering:auto; stroke-opacity:1; fill:black; stroke-dasharray:none; font-weight:normal; stroke-width:1; font-family:'Dialog'; font-style:normal; stroke-linejoin:miter; font-size:12px; stroke-dashoffset:0; image-rendering:auto;\" width=\"548\" height=\"336\"><!--Generated by Scilab with Batik SVG Generator--><defs id=\"genericDefs\"/><g><defs id=\"defs1\"><clipPath clipPathUnits=\"userSpaceOnUse\" id=\"clipPath1\"><path d=\"M68.4959 41.9975 L479.5041 41.9975 L479.5041 294.0025 L68.4959 294.0025 L68.4959 41.9975 Z\" style=\"\"/></clipPath><font horiz-adv-x=\"60.0\" id=\"font1\"><font-face ascent=\"106.899895\" descent=\"29.299973\" units-per-em=\"100\" style=\"font-style:normal; font-family:sans-serif; font-weight:normal;\"/><missing-glyph horiz-adv-x=\"60.0\" d=\"M9.4062 0 L9.4062 71.4062 L50.5 71.4062 L50.5 0 L9.4062 0 ZM14.5 5.0938 L45.4062 5.0938 L45.4062 66.2969 L14.5 66.2969 L14.5 5.0938 Z\"/><glyph unicode=\"0\" horiz-adv-x=\"57.0\" d=\"M52.2969 35.7969 Q52.2969 24.2969 49.8906 16.0469 Q47.5 7.7969 42.2969 3.3906 Q37.0938 -1 28.5 -1 Q16.4062 -1 10.6562 8.75 Q4.9062 18.5 4.9062 35.7969 Q4.9062 47.4062 7.25 55.5938 Q9.5938 63.7969 14.7969 68.1406 Q20 72.5 28.5 72.5 Q40.5 72.5 46.3906 62.8438 Q52.2969 53.2031 52.2969 35.7969 ZM13.7031 35.7969 Q13.7031 21.0938 17.0469 13.7969 Q20.4062 6.5 28.5 6.5 Q36.5 6.5 39.9531 13.75 Q43.4062 21 43.4062 35.7969 Q43.4062 50.4062 39.9531 57.7031 Q36.5 65 28.5 65 Q20.4062 65 17.0469 57.7031 Q13.7031 50.4062 13.7031 35.7969 Z\"/><glyph unicode=\"1\" horiz-adv-x=\"57.0\" d=\"M35.5 0 L26.9062 0 L26.9062 49.9062 Q26.9062 54.2031 27 56.7969 Q27.0938 59.4062 27.2969 62.2031 Q25.7031 60.5938 24.3906 59.5 Q23.0938 58.4062 21.0938 56.7031 L13.5 50.5 L8.9062 56.4062 L28.2031 71.4062 L35.5 71.4062 L35.5 0 Z\"/><glyph unicode=\"2\" horiz-adv-x=\"57.0\" d=\"M52 0 L4.7969 0 L4.7969 7.2969 L23.5 26.2031 Q28.9062 31.5938 32.5938 35.7969 Q36.2969 40 38.1875 44.0469 Q40.0938 48.0938 40.0938 52.9062 Q40.0938 58.7969 36.5938 61.8438 Q33.0938 64.9062 27.5 64.9062 Q22.2969 64.9062 18.3438 63.0938 Q14.4062 61.2969 10.2969 58.0938 L5.5938 64 Q9.7969 67.5 15.25 69.9531 Q20.7031 72.4062 27.5 72.4062 Q37.5 72.4062 43.2969 67.3438 Q49.0938 62.2969 49.0938 53.4062 Q49.0938 47.7969 46.7969 42.8906 Q44.5 38 40.3906 33.25 Q36.2969 28.5 30.7969 23.0938 L15.9062 8.4062 L15.9062 8 L52 8 L52 0 Z\"/><glyph unicode=\"4\" horiz-adv-x=\"57.0\" d=\"M55.2031 16.2031 L44.7969 16.2031 L44.7969 0 L36.2969 0 L36.2969 16.2031 L2.0938 16.2031 L2.0938 23.7031 L35.7031 71.7969 L44.7969 71.7969 L44.7969 24.0938 L55.2031 24.0938 L55.2031 16.2031 ZM36.2969 46.5938 Q36.2969 51.7969 36.5 55.4375 Q36.7031 59.0938 36.7969 62.4062 L36.4062 62.4062 Q35.5938 60.5 34.3906 58.2969 Q33.2031 56.0938 32.0938 54.5938 L10.7031 24.0938 L36.2969 24.0938 L36.2969 46.5938 Z\"/><glyph unicode=\"6\" horiz-adv-x=\"57.0\" d=\"M5.5 30.5 Q5.5 38.2031 6.8438 45.6406 Q8.2031 53.0938 11.75 59.1406 Q15.2969 65.2031 21.6875 68.7969 Q28.0938 72.4062 38.2031 72.4062 Q40.2969 72.4062 42.8438 72.2031 Q45.4062 72 47 71.5 L47 64 Q45.2031 64.5938 42.9531 64.8906 Q40.7031 65.2031 38.4062 65.2031 Q31.5 65.2031 26.8906 62.8906 Q22.2969 60.5938 19.6406 56.5938 Q17 52.5938 15.7969 47.3906 Q14.5938 42.2031 14.2969 36.2969 L14.9062 36.2969 Q17.2031 39.7969 21.2969 42.25 Q25.4062 44.7031 31.7969 44.7031 Q41.0938 44.7031 46.7969 39.0469 Q52.5 33.4062 52.5 23 Q52.5 11.7969 46.3438 5.3906 Q40.2031 -1 29.7969 -1 Q23 -1 17.5 2.3906 Q12 5.7969 8.75 12.7969 Q5.5 19.7969 5.5 30.5 ZM29.7031 6.4062 Q36 6.4062 39.8906 10.4531 Q43.7969 14.5 43.7969 23 Q43.7969 29.7969 40.3438 33.7969 Q36.9062 37.7969 30 37.7969 Q25.2969 37.7969 21.7969 35.8438 Q18.2969 33.9062 16.3438 30.9062 Q14.4062 27.9062 14.4062 24.7031 Q14.4062 20.4062 16.0938 16.1562 Q17.7969 11.9062 21.1875 9.1562 Q24.5938 6.4062 29.7031 6.4062 Z\"/><glyph unicode=\"8\" horiz-adv-x=\"57.0\" d=\"M28.5 72.4062 Q37.9062 72.4062 43.9062 68 Q49.9062 63.5938 49.9062 55.2969 Q49.9062 51 48.0469 47.7969 Q46.2031 44.5938 43.0938 42.1406 Q40 39.7031 36.2969 37.7969 Q40.7031 35.7031 44.2969 33.0469 Q47.9062 30.4062 50.0469 26.9062 Q52.2031 23.4062 52.2031 18.5 Q52.2031 9.5 45.8438 4.25 Q39.5 -1 28.7969 -1 Q17.2969 -1 11.0938 4.0469 Q4.9062 9.0938 4.9062 18.2031 Q4.9062 23.0938 6.9531 26.6875 Q9 30.2969 12.3906 32.8906 Q15.7969 35.5 19.7031 37.2969 Q14.5 40.2969 10.8438 44.5469 Q7.2031 48.7969 7.2031 55.4062 Q7.2031 60.9062 10 64.6562 Q12.7969 68.4062 17.5938 70.4062 Q22.4062 72.4062 28.5 72.4062 ZM28.4062 65.2969 Q22.9062 65.2969 19.3438 62.6406 Q15.7969 60 15.7969 55 Q15.7969 51.2969 17.5469 48.7969 Q19.2969 46.2969 22.2969 44.5469 Q25.2969 42.7969 28.9062 41.2031 Q34.0938 43.4062 37.6406 46.5 Q41.2031 49.5938 41.2031 55 Q41.2031 60 37.7031 62.6406 Q34.2031 65.2969 28.4062 65.2969 ZM13.5 18.0938 Q13.5 12.9062 17.2031 9.4531 Q20.9062 6 28.5938 6 Q35.9062 6 39.75 9.4531 Q43.5938 12.9062 43.5938 18.4062 Q43.5938 23.5938 39.5 27.0469 Q35.4062 30.5 28.5938 33.0938 L27 33.7031 Q20.4062 30.9062 16.9531 27.25 Q13.5 23.5938 13.5 18.0938 Z\"/><glyph unicode=\"3\" horiz-adv-x=\"57.0\" d=\"M49.2969 54.7031 Q49.2969 47.5 45.2969 43.25 Q41.2969 39 34.5 37.5938 L34.5 37.2031 Q43.0938 36.2031 47.2969 31.7969 Q51.5 27.4062 51.5 20.2969 Q51.5 14.0938 48.5938 9.25 Q45.7031 4.4062 39.6406 1.7031 Q33.5938 -1 24.0938 -1 Q18.5 -1 13.7031 -0.1406 Q8.9062 0.7031 4.5 2.9062 L4.5 11.0938 Q9 8.9062 14.2031 7.6562 Q19.4062 6.4062 24.2031 6.4062 Q33.7969 6.4062 38.0469 10.1562 Q42.2969 13.9062 42.2969 20.5 Q42.2969 27.2031 37.0469 30.1406 Q31.7969 33.0938 22.2969 33.0938 L15.4062 33.0938 L15.4062 40.5938 L22.4062 40.5938 Q31.2031 40.5938 35.75 44.2969 Q40.2969 48 40.2969 54.0938 Q40.2969 59.2969 36.7969 62.1406 Q33.2969 65 27.2969 65 Q21.5 65 17.3906 63.2969 Q13.2969 61.5938 9.2969 59 L4.9062 65 Q8.7031 68 14.3438 70.2031 Q20 72.4062 27.2031 72.4062 Q38.4062 72.4062 43.8438 67.4062 Q49.2969 62.4062 49.2969 54.7031 Z\"/><glyph unicode=\"5\" horiz-adv-x=\"57.0\" d=\"M27.5 43.7969 Q38.5 43.7969 45 38.2969 Q51.5 32.7969 51.5 22.7969 Q51.5 11.7031 44.4531 5.3438 Q37.4062 -1 24.7969 -1 Q19.2969 -1 14.4375 0 Q9.5938 1 6.2969 2.9062 L6.2969 11.2031 Q9.9062 9 15.0469 7.75 Q20.2031 6.5 24.9062 6.5 Q32.7969 6.5 37.6406 10.25 Q42.5 14 42.5 21.9062 Q42.5 28.9062 38.2031 32.6562 Q33.9062 36.4062 24.5938 36.4062 Q21.7969 36.4062 18.1875 35.9062 Q14.5938 35.4062 12.4062 34.9062 L8 37.7031 L10.7031 71.4062 L46.5 71.4062 L46.5 63.4062 L18.2031 63.4062 L16.5 42.7031 Q18.2031 43 21.0938 43.3906 Q24 43.7969 27.5 43.7969 Z\"/><glyph unicode=\"7\" horiz-adv-x=\"57.0\" d=\"M13.5938 0 L42.9062 63.4062 L4.4062 63.4062 L4.4062 71.4062 L52.2969 71.4062 L52.2969 64.5938 L23.2969 0 L13.5938 0 Z\"/><glyph unicode=\"9\" horiz-adv-x=\"57.0\" d=\"M52 40.9062 Q52 33.2031 50.6406 25.75 Q49.2969 18.2969 45.75 12.25 Q42.2031 6.2031 35.75 2.5938 Q29.2969 -1 19.2031 -1 Q17.2031 -1 14.5469 -0.75 Q11.9062 -0.5 10.2031 0 L10.2031 7.5 Q14.0938 6.2031 19 6.2031 Q26 6.2031 30.5469 8.5 Q35.0938 10.7969 37.7969 14.75 Q40.5 18.7031 41.7031 23.9531 Q42.9062 29.2031 43.0938 35 L42.5 35 Q40.2969 31.5938 36.1406 29.1406 Q32 26.7031 25.5 26.7031 Q16.2969 26.7031 10.6406 32.3438 Q5 38 5 48.2969 Q5 55.7969 7.8438 61.1875 Q10.7031 66.5938 15.7969 69.5 Q20.9062 72.4062 27.7969 72.4062 Q34.5938 72.4062 40.0938 68.9531 Q45.5938 65.5 48.7969 58.5469 Q52 51.5938 52 40.9062 ZM27.7969 65 Q21.5938 65 17.6406 60.8906 Q13.7031 56.7969 13.7031 48.4062 Q13.7031 41.5 17.0469 37.5469 Q20.4062 33.5938 27.4062 33.5938 Q32.2031 33.5938 35.7031 35.5469 Q39.2031 37.5 41.1406 40.5 Q43.0938 43.5 43.0938 46.7031 Q43.0938 51 41.3906 55.2031 Q39.7031 59.4062 36.2969 62.2031 Q32.9062 65 27.7969 65 Z\"/><glyph unicode=\".\" horiz-adv-x=\"27.0\" d=\"M7.2031 5.4062 Q7.2031 9.0938 9 10.5938 Q10.7969 12.0938 13.2969 12.0938 Q15.9062 12.0938 17.75 10.5938 Q19.5938 9.0938 19.5938 5.4062 Q19.5938 1.7969 17.75 0.1875 Q15.9062 -1.4062 13.2969 -1.4062 Q10.7969 -1.4062 9 0.1875 Q7.2031 1.7969 7.2031 5.4062 Z\"/><glyph unicode=\"-\" horiz-adv-x=\"32.0\" d=\"M4 22.9062 L4 30.7031 L28.2031 30.7031 L28.2031 22.9062 L4 22.9062 Z\"/></font></defs><g style=\"fill:white; text-rendering:optimizeLegibility; stroke:white;\"><rect x=\"0\" width=\"548\" height=\"336\" y=\"0\" style=\"stroke:none;\"/></g><g style=\"stroke-linecap:butt; fill:white; text-rendering:geometricPrecision; stroke-linejoin:bevel; shape-rendering:crispEdges; stroke:white; stroke-width:0;\"><path style=\"stroke:none;\" d=\"M479.5 42 L479.5 294 L68.5 42 Z\"/><path style=\"stroke:none;\" d=\"M479.5 294 L68.5 294 L68.5 42 Z\"/><path style=\"stroke:none;\" d=\"M479.5 42 L479.5 294 L479.5 294 Z\"/><path style=\"stroke:none;\" d=\"M68.5 42 L68.5 294 L68.5 294 Z\"/><path style=\"stroke:none;\" d=\"M479.5 42 L479.5 294 L68.5 42 Z\"/><path style=\"stroke:none;\" d=\"M479.5 294 L68.5 294 L68.5 42 Z\"/><path style=\"stroke:none;\" d=\"M479.5 42 L479.5 42 L479.5 294 Z\"/><path style=\"stroke:none;\" d=\"M68.5 42 L68.5 42 L68.5 294 Z\"/><path style=\"stroke:none;\" d=\"M479.5 42 L68.5 42 L479.5 42 Z\"/><path style=\"stroke:none;\" d=\"M68.5 42 L68.5 42 L479.5 42 Z\"/><path style=\"stroke:none;\" d=\"M479.5 294 L68.5 294 L479.5 294 Z\"/><path style=\"stroke:none;\" d=\"M68.5 294 L68.5 294 L479.5 294 Z\"/></g><g transform=\"translate(65,303)\" style=\"font-size:10px; stroke-linecap:butt; text-rendering:geometricPrecision; font-family:sans-serif; stroke-linejoin:bevel; stroke-width:0;\"><text x=\"-0.4844\" xml:space=\"preserve\" y=\"10.69\" style=\"stroke:none;\">0</text></g><g transform=\"translate(470,303)\" style=\"font-size:10px; stroke-linecap:butt; text-rendering:geometricPrecision; font-family:sans-serif; stroke-linejoin:bevel; stroke-width:0;\"><text x=\"-0.8906\" xml:space=\"preserve\" y=\"10.69\" style=\"stroke:none;\">100</text></g><g transform=\"translate(144.2,303)\" style=\"font-size:10px; stroke-linecap:butt; text-rendering:geometricPrecision; font-family:sans-serif; stroke-linejoin:bevel; stroke-width:0;\"><text x=\"-0.4844\" xml:space=\"preserve\" y=\"10.69\" style=\"stroke:none;\">20</text></g><g transform=\"translate(225.9,303)\" style=\"font-size:10px; stroke-linecap:butt; text-rendering:geometricPrecision; font-family:sans-serif; stroke-linejoin:bevel; stroke-width:0;\"><text x=\"-0.2031\" xml:space=\"preserve\" y=\"10.69\" style=\"stroke:none;\">40</text></g><g transform=\"translate(308.6,303)\" style=\"font-size:10px; stroke-linecap:butt; text-rendering:geometricPrecision; font-family:sans-serif; stroke-linejoin:bevel; stroke-width:0;\"><text x=\"-0.5469\" xml:space=\"preserve\" y=\"10.69\" style=\"stroke:none;\">60</text></g><g transform=\"translate(390.8,303)\" style=\"font-size:10px; stroke-linecap:butt; text-rendering:geometricPrecision; font-family:sans-serif; stroke-linejoin:bevel; stroke-width:0;\"><text x=\"-0.4844\" xml:space=\"preserve\" y=\"10.69\" style=\"stroke:none;\">80</text></g><g transform=\"translate(103.1,303)\" style=\"font-size:10px; stroke-linecap:butt; text-rendering:geometricPrecision; font-family:sans-serif; stroke-linejoin:bevel; stroke-width:0;\"><text x=\"-0.8906\" xml:space=\"preserve\" y=\"10.69\" style=\"stroke:none;\">10</text></g><g transform=\"translate(185.3,303)\" style=\"font-size:10px; stroke-linecap:butt; text-rendering:geometricPrecision; font-family:sans-serif; stroke-linejoin:bevel; stroke-width:0;\"><text x=\"-0.4531\" xml:space=\"preserve\" y=\"10.69\" style=\"stroke:none;\">30</text></g><g transform=\"translate(267.5,303)\" style=\"font-size:10px; stroke-linecap:butt; text-rendering:geometricPrecision; font-family:sans-serif; stroke-linejoin:bevel; stroke-width:0;\"><text x=\"-0.625\" xml:space=\"preserve\" y=\"10.69\" style=\"stroke:none;\">50</text></g><g transform=\"translate(349.7,303)\" style=\"font-size:10px; stroke-linecap:butt; text-rendering:geometricPrecision; font-family:sans-serif; stroke-linejoin:bevel; stroke-width:0;\"><text x=\"-0.4375\" xml:space=\"preserve\" y=\"10.69\" style=\"stroke:none;\">70</text></g><g transform=\"translate(431.9,303)\" style=\"font-size:10px; stroke-linecap:butt; text-rendering:geometricPrecision; font-family:sans-serif; stroke-linejoin:bevel; stroke-width:0;\"><text x=\"-0.5\" xml:space=\"preserve\" y=\"10.69\" style=\"stroke:none;\">90</text></g><g style=\"text-rendering:geometricPrecision; font-size:10px; shape-rendering:crispEdges; font-family:sans-serif; stroke-linecap:butt;\"><path style=\"fill:none;\" d=\"M68.5 294 L68.5 300\"/><path style=\"fill:none;\" d=\"M109.6 294 L109.6 300\"/><path style=\"fill:none;\" d=\"M150.7 294 L150.7 300\"/><path style=\"fill:none;\" d=\"M191.8 294 L191.8 300\"/><path style=\"fill:none;\" d=\"M232.9 294 L232.9 300\"/><path style=\"fill:none;\" d=\"M274 294 L274 300\"/><path style=\"fill:none;\" d=\"M315.1 294 L315.1 300\"/><path style=\"fill:none;\" d=\"M356.2 294 L356.2 300\"/><path style=\"fill:none;\" d=\"M397.3 294 L397.3 300\"/><path style=\"fill:none;\" d=\"M438.4 294 L438.4 300\"/><path style=\"fill:none;\" d=\"M479.5 294 L479.5 300\"/><path style=\"fill:none;\" d=\"M68.5 294 L68.5 297\"/><path style=\"fill:none;\" d=\"M89.05 294 L89.05 297\"/><path style=\"fill:none;\" d=\"M109.6 294 L109.6 297\"/><path style=\"fill:none;\" d=\"M130.15 294 L130.15 297\"/><path style=\"fill:none;\" d=\"M150.7 294 L150.7 297\"/><path style=\"fill:none;\" d=\"M171.25 294 L171.25 297\"/><path style=\"fill:none;\" d=\"M191.8 294 L191.8 297\"/><path style=\"fill:none;\" d=\"M212.35 294 L212.35 297\"/><path style=\"fill:none;\" d=\"M232.9 294 L232.9 297\"/><path style=\"fill:none;\" d=\"M253.45 294 L253.45 297\"/><path style=\"fill:none;\" d=\"M274 294 L274 297\"/><path style=\"fill:none;\" d=\"M294.55 294 L294.55 297\"/><path style=\"fill:none;\" d=\"M315.1 294 L315.1 297\"/><path style=\"fill:none;\" d=\"M335.65 294 L335.65 297\"/><path style=\"fill:none;\" d=\"M356.2 294 L356.2 297\"/><path style=\"fill:none;\" d=\"M376.75 294 L376.75 297\"/><path style=\"fill:none;\" d=\"M397.3 294 L397.3 297\"/><path style=\"fill:none;\" d=\"M417.85 294 L417.85 297\"/><path style=\"fill:none;\" d=\"M438.4 294 L438.4 297\"/><path style=\"fill:none;\" d=\"M458.95 294 L458.95 297\"/><path style=\"fill:none;\" d=\"M479.5 294 L479.5 297\"/><path style=\"fill:none;\" d=\"M479.5 294 L68.5 294\"/><text x=\"-0.4844\" y=\"10.69\" transform=\"translate(52.5,250.5)\" style=\"stroke-linejoin:bevel; shape-rendering:auto; stroke:none; stroke-width:0;\" xml:space=\"preserve\">0</text></g><g transform=\"translate(54.5,70.5)\" style=\"font-size:10px; stroke-linecap:butt; text-rendering:geometricPrecision; font-family:sans-serif; stroke-linejoin:bevel; stroke-width:0;\"><text x=\"-0.8906\" xml:space=\"preserve\" y=\"10.69\" style=\"stroke:none;\">1</text></g><g transform=\"translate(40.5,286.5)\" style=\"font-size:10px; stroke-linecap:butt; text-rendering:geometricPrecision; font-family:sans-serif; stroke-linejoin:bevel; stroke-width:0;\"><text x=\"-0.4062\" xml:space=\"preserve\" y=\"10.69\" style=\"stroke:none;\">-0.2</text></g><g transform=\"translate(43.5,214.5)\" style=\"font-size:10px; stroke-linecap:butt; text-rendering:geometricPrecision; font-family:sans-serif; stroke-linejoin:bevel; stroke-width:0;\"><text x=\"-0.4844\" xml:space=\"preserve\" y=\"10.69\" style=\"stroke:none;\">0.2</text></g><g transform=\"translate(42.5,178.5)\" style=\"font-size:10px; stroke-linecap:butt; text-rendering:geometricPrecision; font-family:sans-serif; stroke-linejoin:bevel; stroke-width:0;\"><text x=\"-0.4844\" xml:space=\"preserve\" y=\"10.69\" style=\"stroke:none;\">0.4</text></g><g transform=\"translate(43.5,142.5)\" style=\"font-size:10px; stroke-linecap:butt; text-rendering:geometricPrecision; font-family:sans-serif; stroke-linejoin:bevel; stroke-width:0;\"><text x=\"-0.4844\" xml:space=\"preserve\" y=\"10.69\" style=\"stroke:none;\">0.6</text></g><g transform=\"translate(43.5,106.5)\" style=\"font-size:10px; stroke-linecap:butt; text-rendering:geometricPrecision; font-family:sans-serif; stroke-linejoin:bevel; stroke-width:0;\"><text x=\"-0.4844\" xml:space=\"preserve\" y=\"10.69\" style=\"stroke:none;\">0.8</text></g><g transform=\"translate(43.5,34.5)\" style=\"font-size:10px; stroke-linecap:butt; text-rendering:geometricPrecision; font-family:sans-serif; stroke-linejoin:bevel; stroke-width:0;\"><text x=\"-0.8906\" xml:space=\"preserve\" y=\"10.69\" style=\"stroke:none;\">1.2</text></g><g style=\"text-rendering:geometricPrecision; font-size:10px; shape-rendering:crispEdges; font-family:sans-serif; stroke-linecap:butt;\"><path style=\"fill:none;\" d=\"M68.5 294 L62.5 294\"/><path style=\"fill:none;\" d=\"M68.5 258 L62.5 258\"/><path style=\"fill:none;\" d=\"M68.5 222 L62.5 222\"/><path style=\"fill:none;\" d=\"M68.5 186 L62.5 186\"/><path style=\"fill:none;\" d=\"M68.5 150 L62.5 150\"/><path style=\"fill:none;\" d=\"M68.5 114 L62.5 114\"/><path style=\"fill:none;\" d=\"M68.5 78 L62.5 78\"/><path style=\"fill:none;\" d=\"M68.5 42 L62.5 42\"/><path style=\"fill:none;\" d=\"M68.5 294 L65.5 294\"/><path style=\"fill:none;\" d=\"M68.5 276 L65.5 276\"/><path style=\"fill:none;\" d=\"M68.5 258 L65.5 258\"/><path style=\"fill:none;\" d=\"M68.5 240 L65.5 240\"/><path style=\"fill:none;\" d=\"M68.5 222 L65.5 222\"/><path style=\"fill:none;\" d=\"M68.5 204 L65.5 204\"/><path style=\"fill:none;\" d=\"M68.5 186 L65.5 186\"/><path style=\"fill:none;\" d=\"M68.5 168 L65.5 168\"/><path style=\"fill:none;\" d=\"M68.5 150 L65.5 150\"/><path style=\"fill:none;\" d=\"M68.5 132 L65.5 132\"/><path style=\"fill:none;\" d=\"M68.5 114 L65.5 114\"/><path style=\"fill:none;\" d=\"M68.5 96 L65.5 96\"/><path style=\"fill:none;\" d=\"M68.5 78 L65.5 78\"/><path style=\"fill:none;\" d=\"M68.5 60 L65.5 60\"/><path style=\"fill:none;\" d=\"M68.5 42 L65.5 42\"/><path style=\"fill:none;\" d=\"M68.5 42 L68.5 294\"/><path d=\"M72.61 258 L76.72 257.6223 L80.83 250.197 L84.94 223.152 L89.05 179.232 L93.16 129.552 L97.27 86.874 L101.38 59.64 L105.49 50.28 L109.6 55.86 L113.71 70.62 L117.82 87.882 L121.93 102.012 L126.04 109.302 L130.15 109.068 L134.26 102.696 L138.37 92.922 L142.48 82.77 L146.59 74.76 L150.7 70.26 L154.81 69.54 L158.92 71.7 L163.03 75.48 L167.14 79.494 L171.25 82.464 L175.36 83.814 L179.47 83.562 L183.58 82.068 L187.69 80.016 L191.8 78 L195.91 76.56 L200.02 75.84 L204.13 76.02 L208.24 76.56 L212.35 77.46 L216.46 78.378 L220.57 78.954 L224.68 79.17 L228.79 79.026 L232.9 78.648 L237.01 78.216 L241.12 77.82 L245.23 77.64 L249.34 77.46 L253.45 77.64 L257.56 77.82 L261.67 78 L265.78 78.144 L269.89 78.234 L274 78.252 L278.11 78.18 L282.22 78.09 L286.33 78 L290.44 78 L294.55 77.82 L298.66 77.82 L302.77 78 L306.88 78 L310.99 78.018 L315.1 78.054 L319.21 78.054 L323.32 78.054 L327.43 78.018 L331.54 78 L335.65 78 L339.76 78 L343.87 78 L347.98 78 L352.09 78 L356.2 78 L360.31 78.018 L364.42 78.018 L368.53 78 L372.64 78 L376.75 78 L380.86 78 L384.97 78 L389.08 78 L393.19 78 L397.3 78.036 L401.41 78.054 L405.52 78.054 L409.63 78.054 L413.74 78.054 L417.85 78.036 L421.96 78.036 L426.07 78.018 L430.18 78.018 L434.29 78.018 L438.4 78.036 L442.51 78.036 L446.62 78.036 L450.73 78.036 L454.84 78.036 L458.95 78.036 L463.06 78.036 L467.17 78.018 L471.28 78.018 L475.39 78 L479.5 78\" style=\"fill:none; shape-rendering:geometricPrecision; clip-path:url(#clipPath1); stroke:red;\"/><path d=\"M72.61 258 L76.72 257.6976 L80.83 251.4008 L84.94 229.4402 L89.05 192.1297 L93.16 148.6824 L97.27 109.5923 L101.38 82.0429 L105.49 68.6312 L109.6 67.9213 L113.71 75.8578 L117.82 87.4297 L121.93 98.1315 L126.04 104.9258 L130.15 106.6004 L134.26 103.5873 L138.37 97.4255 L142.48 90.0905 L146.59 83.3892 L150.7 78.5529 L154.81 76.0758 L158.92 75.7775 L163.03 77.0157 L167.14 78.9581 L171.25 80.8325 L175.36 82.0978 L179.47 82.5157 L183.58 82.1293 L187.69 81.1787 L191.8 79.99 L195.91 78.8719 L200.02 78.0434 L204.13 77.6015 L208.24 77.5285 L212.35 77.7244 L216.46 78.0524 L220.57 78.3811 L224.68 78.6152 L228.79 78.7091 L232.9 78.6652 L237.01 78.5205 L241.12 78.3289 L245.23 78.143 L249.34 78.0013 L253.45 77.9227 L257.56 77.9063 L261.67 77.9368 L265.78 77.9918 L269.89 78.0489 L274 78.0916 L278.11 78.1112 L282.22 78.1073 L286.33 78.0855 L290.44 78.0547 L294.55 78.0238 L298.66 77.9996 L302.77 77.9857 L306.88 77.9822 L310.99 77.9868 L315.1 77.9959 L319.21 78.0058 L323.32 78.0135 L327.43 78.0174 L331.54 78.0173 L335.65 78.014 L339.76 78.0091 L343.87 78.004 L347.98 77.9999 L352.09 77.9974 L356.2 77.9967 L360.31 77.9973 L364.42 77.9988 L368.53 78.0005 L372.64 78.0019 L376.75 78.0026 L380.86 78.0027 L384.97 78.0023 L389.08 78.0015 L393.19 78.0006 L397.3 77.9999 L401.41 77.9995 L405.52 77.9993 L409.63 77.9994 L413.74 77.9997 L417.85 78 L421.96 78.0002 L426.07 78.0003 L430.18 78.0004 L434.29 78.0003 L438.4 78.0002 L442.51 78 L446.62 77.9999 L450.73 77.9998 L454.84 77.9998 L458.95 77.9998 L463.06 77.9999 L467.17 77.9999 L471.28 78 L475.39 78 L479.5 78\" style=\"fill:none; shape-rendering:geometricPrecision; clip-path:url(#clipPath1); stroke:lime;\"/><path d=\"M72.61 258 L76.72 257.6976 L80.83 251.4008 L84.94 229.4402 L89.05 192.1297 L93.16 148.6824 L97.27 109.5923 L101.38 82.0429 L105.49 68.6312 L109.6 67.9213 L113.71 75.8578 L117.82 87.4297 L121.93 98.1315 L126.04 104.9258 L130.15 106.6004 L134.26 103.5873 L138.37 97.4255 L142.48 90.0905 L146.59 83.3892 L150.7 78.5529 L154.81 76.0758 L158.92 75.7775 L163.03 77.0157 L167.14 78.9581 L171.25 80.8325 L175.36 82.0978 L179.47 82.5157 L183.58 82.1293 L187.69 81.1787 L191.8 79.99 L195.91 78.8719 L200.02 78.0434 L204.13 77.6015 L208.24 77.5285 L212.35 77.7244 L216.46 78.0524 L220.57 78.3811 L224.68 78.6152 L228.79 78.7091 L232.9 78.6652 L237.01 78.5205 L241.12 78.3289 L245.23 78.143 L249.34 78.0013 L253.45 77.9227 L257.56 77.9063 L261.67 77.9368 L265.78 77.9918 L269.89 78.0489 L274 78.0916 L278.11 78.1112 L282.22 78.1073 L286.33 78.0855 L290.44 78.0547 L294.55 78.0238 L298.66 77.9996 L302.77 77.9857 L306.88 77.9822 L310.99 77.9868 L315.1 77.9959 L319.21 78.0058 L323.32 78.0135 L327.43 78.0174 L331.54 78.0173 L335.65 78.014 L339.76 78.0091 L343.87 78.004 L347.98 77.9999 L352.09 77.9974 L356.2 77.9967 L360.31 77.9973 L364.42 77.9988 L368.53 78.0005 L372.64 78.0019 L376.75 78.0026 L380.86 78.0027 L384.97 78.0023 L389.08 78.0015 L393.19 78.0006 L397.3 77.9999 L401.41 77.9995 L405.52 77.9993 L409.63 77.9994 L413.74 77.9997 L417.85 78 L421.96 78.0002 L426.07 78.0003 L430.18 78.0004 L434.29 78.0003 L438.4 78.0002 L442.51 78 L446.62 77.9999 L450.73 77.9998 L454.84 77.9998 L458.95 77.9998 L463.06 77.9999 L467.17 77.9999 L471.28 78 L475.39 78 L479.5 78\" style=\"fill:none; shape-rendering:geometricPrecision; clip-path:url(#clipPath1); stroke:blue;\"/><path style=\"fill:none;\" d=\"M68.5 294 L68.5 42 L68.5 42 L479.5 42 L479.5 294 L479.5 294 L68.5 294\"/><path style=\"fill:none;\" d=\"M479.5 42 L68.5 42\"/><path style=\"fill:none;\" d=\"M479.5 42 L479.5 294\"/><path style=\"fill:none;\" d=\"M479.5 42 L479.5 42\"/></g></g></svg>"
      ],
      "text/plain": [
       "<IPython.core.display.SVG object>"
      ]
     },
     "metadata": {},
     "output_type": "display_data"
    }
   ],
   "source": [
    "[0 1 2;hh hd1 hd2]\n",
    "plot(hh, \"r\")\n",
    "plot(hd1, \"g\")\n",
    "plot(hd2, \"b\")"
   ]
  }
 ],
 "metadata": {
  "kernelspec": {
   "display_name": "Scilab",
   "language": "scilab",
   "name": "scilab"
  },
  "language_info": {
   "file_extension": ".sci",
   "help_links": [
    {
     "text": "MetaKernel Magics",
     "url": "https://metakernel.readthedocs.io/en/latest/source/README.html"
    }
   ],
   "mimetype": "text/x-scilab",
   "name": "scilab",
   "version": "0.10.0"
  }
 },
 "nbformat": 4,
 "nbformat_minor": 2
}
